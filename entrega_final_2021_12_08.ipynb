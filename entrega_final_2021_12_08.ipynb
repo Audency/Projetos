{
  "nbformat": 4,
  "nbformat_minor": 5,
  "metadata": {
    "kernelspec": {
      "display_name": "Python 3",
      "language": "python",
      "name": "python3"
    },
    "language_info": {
      "codemirror_mode": {
        "name": "ipython",
        "version": 3
      },
      "file_extension": ".py",
      "mimetype": "text/x-python",
      "name": "python",
      "nbconvert_exporter": "python",
      "pygments_lexer": "ipython3",
      "version": "3.8.8"
    },
    "colab": {
      "provenance": [],
      "collapsed_sections": [
        "e7c6ba58",
        "7a948199"
      ]
    }
  },
  "cells": [
    {
      "cell_type": "markdown",
      "metadata": {
        "id": "e7c6ba58"
      },
      "source": [
        "#*Machine Learning para Predições em Saúde*\n",
        "\n",
        "## Análise Descritiva de Dados\n",
        "\n",
        "#### Gabriel Ferreira dos Santos Silva\n",
        "\n",
        "##### Conjunto de Dados Escolhido: Impacts of COVID-19 on Canadians - Mental Health\n",
        "\n",
        "##### Objetivo da Análise: predição de ansiedade severa\n",
        "##### O Conjunto de dados possui 45.989 observações, com as as seguintes variáveis listadas:\n",
        "* PUMFID 01-05 Public use microdata file identifier \n",
        "* VERDATE 06-15 Version date of when the file was created \n",
        "* MH_05 16-16 Perceived mental health \n",
        "* MH_10 17-17 Mental health compared to before physical distancing \n",
        "* MH_15A 18-18 Feeling nervous, anxious or on edge - Freq last 2 weeks \n",
        "* MH_15B 19-19 Not being able to stop or control worrying - Freq last 2 weeks \n",
        "* MH_15C 20-20 Worrying too much about different things - Freq last 2 weeks \n",
        "* MH_15D 21-21 Trouble relaxing - Freq last 2 weeks \n",
        "* MH_15E 22-22 Being so restless that it is hard to sit still - Freq last 2 weeks \n",
        "* MH_15F 23-23 Becoming easily annoyed or irritable - Freq last 2 weeks \n",
        "* MH_15G 24-24 Feeling afraid as if something awful might happen - Freq last 2 weeks \n",
        "* MH_20 25-25 Perceived life stress \n",
        "* BH_60A 26-26 Freq in last week - Went shopping at the grocery store or drugstore \n",
        "* BH_60B 27-27 Freq in last week - Used delivery service for groceries or drugstore \n",
        "* BH_60C 28-28 Freq in last week - Used a food delivery service for prepared food \n",
        "* BH_55A 29-29 Concern about impact of COVID-19 - My own health \n",
        "* BH_55B 30-30 Concern about impact of COVID-19 - Member of household’s health \n",
        "* BH_55C 31-31 Concern about impact of COVID-19 - Vulnerable people’s health \n",
        "* BH_55D 32-32 Concern about impact of COVID-19 - Canadian population’s health \n",
        "* BH_55E 33-33 Concern about impact of COVID-19 - World population’s health \n",
        "* BH_55F 34-34 Concern about impact of COVID-19 - Overloading the health system \n",
        "* BH_55G 35-35 Concern about impact of COVID-19 - Civil disorder \n",
        "* BH_55H 36-36 Concern about impact of COVID-19 - Maintaining social ties \n",
        "* BH_55I 37-37 Concern about impact of COVID-19 - Able coop/supp during crisis \n",
        "* BH_55J 38-38 Concern about impact of COVID-19 - Able coop/supp after crisis \n",
        "* BH_55K 39-39 Concern about impact of COVID-19 - Family stress from confinem \n",
        "* DEM_10 40-40 Gender benchmarked to sex \n",
        "* MHDVMHI 41-41 Perceived mental health \n",
        "* ANXDVGAD 42-43 Generalized Anxiety Severity Score \n",
        "* ANXDVGAC 44-44 Generalized Anxiety Disorder Cut-point \n",
        "* ANXDVSEV 45-45 Severity of Generalized Anxiety \n",
        "* AGEGR_10 46-47 Age group in increments of 10 \n",
        "* PBH_55L 48-48 Concern about impact of COVID-19 - Violence in the home \n",
        "* PCSIZMIZ 49-50 Community Size and Metropolitan Influence Zones \n",
        "* PIIDFLAG 51-51 Indigenous identity flag \n",
        "* PIMMST 52-52 Immigration status \n",
        "* PLM_30 53-54 Scale - I might lose main job or main self-empl income next 4 weeks \n",
        "* PLM_40 55-55 COVID-19 impacts ability meet financial obligations or essential needs \n",
        "* PPROV 56-57 Province of residence \n",
        "* PRURURB 58-58 Rural/Urban indicator \n",
        "* PVISMIN 59-59 Visible minority flag \n",
        "* PAGEGR 60-61 Age group \n",
        "* PUMFFACT 62-73 Factor to benchmark survey to population totals, stand to num particip \n",
        "\n",
        "##### A variável desfecho considerada foi ANXDVGAC 44-44 Generalized Anxiety Disorder Cut-point \n",
        "\n",
        "## Roteiro de Análise\n",
        "1. Importação dos Pacotes\n",
        "2. Chamada do Conjunto de Dados\n",
        "3. Transformação das Variáveis\n",
        "4. Separação em treino e teste - Split aplicado de 80%\n",
        "5. Retirada de variáveis indesejadas\n",
        "6. Correlação/Teste de dependência *_(novo)_*\n",
        "7. Gráficos de frequências para X_train\n",
        "8. One Hot Encoding\n",
        "9. Treinamento do Primeiro Modelo (Entrega 2)\n",
        "10. Obtenção das métricas com base no conjunto de teste (Entrega 2)\n",
        "11. Treinando e comparando múltiplos algoritmos (Entrega 3)\n",
        "12. Desenvolvendo algoritmo selecionado (Entrega 3)\n",
        "    * Logistic Regression\n",
        "    * LightGBM\n",
        "    * Adaboost\n",
        "13. Feature Selection - Boruta (Entrega 3)\n",
        "14. Modelo de Regressão Logística com Boruta (Entrega 3)\n",
        "15. LGBM com Boruta (Entrega 3)\n",
        "16. Próximos passos\n",
        "\n",
        "## Dificuldades encontradas\n",
        "1. O modelo apresentou métricas relativamente altas, despertando a atenção a possíveis vazamentos de informação. Como algumas variáveis são de conhecimento técnico, a colaboração de um profissional capacitado no tema será fundamental para o desenvolvimento do modelo."
      ],
      "id": "e7c6ba58"
    },
    {
      "cell_type": "markdown",
      "metadata": {
        "id": "636e72c7"
      },
      "source": [
        "# 1) Importação dos Pacotes"
      ],
      "id": "636e72c7"
    },
    {
      "cell_type": "code",
      "metadata": {
        "id": "de68c10f",
        "colab": {
          "base_uri": "https://localhost:8080/"
        },
        "outputId": "cca5e01d-9ca8-471c-bca4-ca650ff60d1a"
      },
      "source": [
        "!pip install lazypredict\n",
        "!pip install dfply\n",
        "!pip install pyforest\n",
        "!pip install boruta\n",
        "\n",
        "import pandas as pd\n",
        "import numpy as np\n",
        "import seaborn as sns #visualisation\n",
        "import matplotlib.pyplot as plt #visualisation\n",
        "import plotly.express as px\n",
        "from sklearn.model_selection import train_test_split\n",
        "from dfply import *\n",
        "%matplotlib inline \n",
        "sns.set(color_codes=True)"
      ],
      "id": "de68c10f",
      "execution_count": null,
      "outputs": [
        {
          "output_type": "stream",
          "name": "stdout",
          "text": [
            "Requirement already satisfied: lazypredict in /usr/local/lib/python3.7/dist-packages (0.2.9)\n",
            "Requirement already satisfied: PyYAML==5.3.1 in /usr/local/lib/python3.7/dist-packages (from lazypredict) (5.3.1)\n",
            "Requirement already satisfied: xgboost==1.1.1 in /usr/local/lib/python3.7/dist-packages (from lazypredict) (1.1.1)\n",
            "Requirement already satisfied: six==1.15.0 in /usr/local/lib/python3.7/dist-packages (from lazypredict) (1.15.0)\n",
            "Requirement already satisfied: scikit-learn==0.23.1 in /usr/local/lib/python3.7/dist-packages (from lazypredict) (0.23.1)\n",
            "Requirement already satisfied: scipy==1.5.4 in /usr/local/lib/python3.7/dist-packages (from lazypredict) (1.5.4)\n",
            "Requirement already satisfied: numpy==1.19.1 in /usr/local/lib/python3.7/dist-packages (from lazypredict) (1.19.1)\n",
            "Requirement already satisfied: tqdm==4.56.0 in /usr/local/lib/python3.7/dist-packages (from lazypredict) (4.56.0)\n",
            "Requirement already satisfied: click==7.1.2 in /usr/local/lib/python3.7/dist-packages (from lazypredict) (7.1.2)\n",
            "Requirement already satisfied: pandas==1.0.5 in /usr/local/lib/python3.7/dist-packages (from lazypredict) (1.0.5)\n",
            "Requirement already satisfied: pytest==5.4.3 in /usr/local/lib/python3.7/dist-packages (from lazypredict) (5.4.3)\n",
            "Requirement already satisfied: lightgbm==2.3.1 in /usr/local/lib/python3.7/dist-packages (from lazypredict) (2.3.1)\n",
            "Requirement already satisfied: joblib==1.0.0 in /usr/local/lib/python3.7/dist-packages (from lazypredict) (1.0.0)\n",
            "Requirement already satisfied: python-dateutil>=2.6.1 in /usr/local/lib/python3.7/dist-packages (from pandas==1.0.5->lazypredict) (2.8.2)\n",
            "Requirement already satisfied: pytz>=2017.2 in /usr/local/lib/python3.7/dist-packages (from pandas==1.0.5->lazypredict) (2018.9)\n",
            "Requirement already satisfied: attrs>=17.4.0 in /usr/local/lib/python3.7/dist-packages (from pytest==5.4.3->lazypredict) (21.2.0)\n",
            "Requirement already satisfied: pluggy<1.0,>=0.12 in /usr/local/lib/python3.7/dist-packages (from pytest==5.4.3->lazypredict) (0.13.1)\n",
            "Requirement already satisfied: more-itertools>=4.0.0 in /usr/local/lib/python3.7/dist-packages (from pytest==5.4.3->lazypredict) (8.12.0)\n",
            "Requirement already satisfied: packaging in /usr/local/lib/python3.7/dist-packages (from pytest==5.4.3->lazypredict) (21.3)\n",
            "Requirement already satisfied: py>=1.5.0 in /usr/local/lib/python3.7/dist-packages (from pytest==5.4.3->lazypredict) (1.11.0)\n",
            "Requirement already satisfied: wcwidth in /usr/local/lib/python3.7/dist-packages (from pytest==5.4.3->lazypredict) (0.2.5)\n",
            "Requirement already satisfied: importlib-metadata>=0.12 in /usr/local/lib/python3.7/dist-packages (from pytest==5.4.3->lazypredict) (4.8.2)\n",
            "Requirement already satisfied: threadpoolctl>=2.0.0 in /usr/local/lib/python3.7/dist-packages (from scikit-learn==0.23.1->lazypredict) (3.0.0)\n",
            "Requirement already satisfied: zipp>=0.5 in /usr/local/lib/python3.7/dist-packages (from importlib-metadata>=0.12->pytest==5.4.3->lazypredict) (3.6.0)\n",
            "Requirement already satisfied: typing-extensions>=3.6.4 in /usr/local/lib/python3.7/dist-packages (from importlib-metadata>=0.12->pytest==5.4.3->lazypredict) (3.10.0.2)\n",
            "Requirement already satisfied: pyparsing!=3.0.5,>=2.0.2 in /usr/local/lib/python3.7/dist-packages (from packaging->pytest==5.4.3->lazypredict) (3.0.6)\n",
            "Requirement already satisfied: dfply in /usr/local/lib/python3.7/dist-packages (0.3.3)\n",
            "Requirement already satisfied: pandas in /usr/local/lib/python3.7/dist-packages (from dfply) (1.0.5)\n",
            "Requirement already satisfied: numpy in /usr/local/lib/python3.7/dist-packages (from dfply) (1.19.1)\n",
            "Requirement already satisfied: pytz>=2017.2 in /usr/local/lib/python3.7/dist-packages (from pandas->dfply) (2018.9)\n",
            "Requirement already satisfied: python-dateutil>=2.6.1 in /usr/local/lib/python3.7/dist-packages (from pandas->dfply) (2.8.2)\n",
            "Requirement already satisfied: six>=1.5 in /usr/local/lib/python3.7/dist-packages (from python-dateutil>=2.6.1->pandas->dfply) (1.15.0)\n",
            "Requirement already satisfied: pyforest in /usr/local/lib/python3.7/dist-packages (1.1.0)\n",
            "Requirement already satisfied: boruta in /usr/local/lib/python3.7/dist-packages (0.3)\n",
            "Requirement already satisfied: scipy>=0.17.0 in /usr/local/lib/python3.7/dist-packages (from boruta) (1.5.4)\n",
            "Requirement already satisfied: numpy>=1.10.4 in /usr/local/lib/python3.7/dist-packages (from boruta) (1.19.1)\n",
            "Requirement already satisfied: scikit-learn>=0.17.1 in /usr/local/lib/python3.7/dist-packages (from boruta) (0.23.1)\n",
            "Requirement already satisfied: joblib>=0.11 in /usr/local/lib/python3.7/dist-packages (from scikit-learn>=0.17.1->boruta) (1.0.0)\n",
            "Requirement already satisfied: threadpoolctl>=2.0.0 in /usr/local/lib/python3.7/dist-packages (from scikit-learn>=0.17.1->boruta) (3.0.0)\n"
          ]
        }
      ]
    },
    {
      "cell_type": "markdown",
      "metadata": {
        "id": "ca84cec5"
      },
      "source": [
        "# 2) Chamada do Conjunto de Dados"
      ],
      "id": "ca84cec5"
    },
    {
      "cell_type": "code",
      "metadata": {
        "id": "72ae2997",
        "colab": {
          "base_uri": "https://localhost:8080/",
          "height": 1000
        },
        "outputId": "07f86dce-0214-434e-8c8d-5b92c905a4bb"
      },
      "source": [
        "df = pd.read_csv(\"https://drive.google.com/uc?export=download&id=1kErGPTcfCJotNKceFIDW0Q_qLgNJlGM8\")\n",
        "df.head().T"
      ],
      "id": "72ae2997",
      "execution_count": null,
      "outputs": [
        {
          "output_type": "execute_result",
          "data": {
            "text/html": [
              "<div>\n",
              "<style scoped>\n",
              "    .dataframe tbody tr th:only-of-type {\n",
              "        vertical-align: middle;\n",
              "    }\n",
              "\n",
              "    .dataframe tbody tr th {\n",
              "        vertical-align: top;\n",
              "    }\n",
              "\n",
              "    .dataframe thead th {\n",
              "        text-align: right;\n",
              "    }\n",
              "</style>\n",
              "<table border=\"1\" class=\"dataframe\">\n",
              "  <thead>\n",
              "    <tr style=\"text-align: right;\">\n",
              "      <th></th>\n",
              "      <th>0</th>\n",
              "      <th>1</th>\n",
              "      <th>2</th>\n",
              "      <th>3</th>\n",
              "      <th>4</th>\n",
              "    </tr>\n",
              "  </thead>\n",
              "  <tbody>\n",
              "    <tr>\n",
              "      <th>PUMFID</th>\n",
              "      <td>5106</td>\n",
              "      <td>5107</td>\n",
              "      <td>5108</td>\n",
              "      <td>5109</td>\n",
              "      <td>5110</td>\n",
              "    </tr>\n",
              "    <tr>\n",
              "      <th>VERDATE</th>\n",
              "      <td>10/06/2020</td>\n",
              "      <td>10/06/2020</td>\n",
              "      <td>10/06/2020</td>\n",
              "      <td>10/06/2020</td>\n",
              "      <td>10/06/2020</td>\n",
              "    </tr>\n",
              "    <tr>\n",
              "      <th>MH_05</th>\n",
              "      <td>3</td>\n",
              "      <td>3</td>\n",
              "      <td>1</td>\n",
              "      <td>2</td>\n",
              "      <td>3</td>\n",
              "    </tr>\n",
              "    <tr>\n",
              "      <th>MH_10</th>\n",
              "      <td>3</td>\n",
              "      <td>3</td>\n",
              "      <td>3</td>\n",
              "      <td>4</td>\n",
              "      <td>4</td>\n",
              "    </tr>\n",
              "    <tr>\n",
              "      <th>MH_15A</th>\n",
              "      <td>3</td>\n",
              "      <td>3</td>\n",
              "      <td>1</td>\n",
              "      <td>3</td>\n",
              "      <td>3</td>\n",
              "    </tr>\n",
              "    <tr>\n",
              "      <th>MH_15B</th>\n",
              "      <td>4</td>\n",
              "      <td>1</td>\n",
              "      <td>1</td>\n",
              "      <td>3</td>\n",
              "      <td>2</td>\n",
              "    </tr>\n",
              "    <tr>\n",
              "      <th>MH_15C</th>\n",
              "      <td>2</td>\n",
              "      <td>2</td>\n",
              "      <td>1</td>\n",
              "      <td>2</td>\n",
              "      <td>2</td>\n",
              "    </tr>\n",
              "    <tr>\n",
              "      <th>MH_15D</th>\n",
              "      <td>2</td>\n",
              "      <td>2</td>\n",
              "      <td>1</td>\n",
              "      <td>3</td>\n",
              "      <td>2</td>\n",
              "    </tr>\n",
              "    <tr>\n",
              "      <th>MH_15E</th>\n",
              "      <td>2</td>\n",
              "      <td>1</td>\n",
              "      <td>1</td>\n",
              "      <td>2</td>\n",
              "      <td>3</td>\n",
              "    </tr>\n",
              "    <tr>\n",
              "      <th>MH_15F</th>\n",
              "      <td>2</td>\n",
              "      <td>2</td>\n",
              "      <td>1</td>\n",
              "      <td>3</td>\n",
              "      <td>3</td>\n",
              "    </tr>\n",
              "    <tr>\n",
              "      <th>MH_15G</th>\n",
              "      <td>3</td>\n",
              "      <td>1</td>\n",
              "      <td>1</td>\n",
              "      <td>1</td>\n",
              "      <td>3</td>\n",
              "    </tr>\n",
              "    <tr>\n",
              "      <th>MH_20</th>\n",
              "      <td>5</td>\n",
              "      <td>2</td>\n",
              "      <td>2</td>\n",
              "      <td>3</td>\n",
              "      <td>3</td>\n",
              "    </tr>\n",
              "    <tr>\n",
              "      <th>BH_60A</th>\n",
              "      <td>4</td>\n",
              "      <td>3</td>\n",
              "      <td>3</td>\n",
              "      <td>3</td>\n",
              "      <td>3</td>\n",
              "    </tr>\n",
              "    <tr>\n",
              "      <th>BH_60B</th>\n",
              "      <td>3</td>\n",
              "      <td>4</td>\n",
              "      <td>4</td>\n",
              "      <td>3</td>\n",
              "      <td>4</td>\n",
              "    </tr>\n",
              "    <tr>\n",
              "      <th>BH_60C</th>\n",
              "      <td>4</td>\n",
              "      <td>4</td>\n",
              "      <td>3</td>\n",
              "      <td>3</td>\n",
              "      <td>4</td>\n",
              "    </tr>\n",
              "    <tr>\n",
              "      <th>BH_55A</th>\n",
              "      <td>2</td>\n",
              "      <td>2</td>\n",
              "      <td>1</td>\n",
              "      <td>2</td>\n",
              "      <td>1</td>\n",
              "    </tr>\n",
              "    <tr>\n",
              "      <th>BH_55B</th>\n",
              "      <td>3</td>\n",
              "      <td>2</td>\n",
              "      <td>1</td>\n",
              "      <td>4</td>\n",
              "      <td>2</td>\n",
              "    </tr>\n",
              "    <tr>\n",
              "      <th>BH_55C</th>\n",
              "      <td>4</td>\n",
              "      <td>3</td>\n",
              "      <td>2</td>\n",
              "      <td>3</td>\n",
              "      <td>3</td>\n",
              "    </tr>\n",
              "    <tr>\n",
              "      <th>BH_55D</th>\n",
              "      <td>4</td>\n",
              "      <td>3</td>\n",
              "      <td>3</td>\n",
              "      <td>2</td>\n",
              "      <td>2</td>\n",
              "    </tr>\n",
              "    <tr>\n",
              "      <th>BH_55E</th>\n",
              "      <td>4</td>\n",
              "      <td>4</td>\n",
              "      <td>3</td>\n",
              "      <td>1</td>\n",
              "      <td>2</td>\n",
              "    </tr>\n",
              "    <tr>\n",
              "      <th>BH_55F</th>\n",
              "      <td>4</td>\n",
              "      <td>2</td>\n",
              "      <td>2</td>\n",
              "      <td>2</td>\n",
              "      <td>2</td>\n",
              "    </tr>\n",
              "    <tr>\n",
              "      <th>BH_55G</th>\n",
              "      <td>1</td>\n",
              "      <td>2</td>\n",
              "      <td>2</td>\n",
              "      <td>1</td>\n",
              "      <td>2</td>\n",
              "    </tr>\n",
              "    <tr>\n",
              "      <th>BH_55H</th>\n",
              "      <td>2</td>\n",
              "      <td>2</td>\n",
              "      <td>3</td>\n",
              "      <td>2</td>\n",
              "      <td>2</td>\n",
              "    </tr>\n",
              "    <tr>\n",
              "      <th>BH_55I</th>\n",
              "      <td>4</td>\n",
              "      <td>2</td>\n",
              "      <td>3</td>\n",
              "      <td>1</td>\n",
              "      <td>1</td>\n",
              "    </tr>\n",
              "    <tr>\n",
              "      <th>BH_55J</th>\n",
              "      <td>4</td>\n",
              "      <td>2</td>\n",
              "      <td>2</td>\n",
              "      <td>2</td>\n",
              "      <td>1</td>\n",
              "    </tr>\n",
              "    <tr>\n",
              "      <th>BH_55K</th>\n",
              "      <td>2</td>\n",
              "      <td>2</td>\n",
              "      <td>2</td>\n",
              "      <td>2</td>\n",
              "      <td>2</td>\n",
              "    </tr>\n",
              "    <tr>\n",
              "      <th>DEM_10</th>\n",
              "      <td>2</td>\n",
              "      <td>2</td>\n",
              "      <td>1</td>\n",
              "      <td>1</td>\n",
              "      <td>2</td>\n",
              "    </tr>\n",
              "    <tr>\n",
              "      <th>MHDVMHI</th>\n",
              "      <td>2</td>\n",
              "      <td>2</td>\n",
              "      <td>4</td>\n",
              "      <td>3</td>\n",
              "      <td>2</td>\n",
              "    </tr>\n",
              "    <tr>\n",
              "      <th>ANXDVGAD</th>\n",
              "      <td>11</td>\n",
              "      <td>5</td>\n",
              "      <td>0</td>\n",
              "      <td>10</td>\n",
              "      <td>11</td>\n",
              "    </tr>\n",
              "    <tr>\n",
              "      <th>ANXDVGAC</th>\n",
              "      <td>1</td>\n",
              "      <td>2</td>\n",
              "      <td>2</td>\n",
              "      <td>1</td>\n",
              "      <td>1</td>\n",
              "    </tr>\n",
              "    <tr>\n",
              "      <th>ANXDVSEV</th>\n",
              "      <td>3</td>\n",
              "      <td>2</td>\n",
              "      <td>0</td>\n",
              "      <td>3</td>\n",
              "      <td>3</td>\n",
              "    </tr>\n",
              "    <tr>\n",
              "      <th>AGEGR_10</th>\n",
              "      <td>4</td>\n",
              "      <td>4</td>\n",
              "      <td>3</td>\n",
              "      <td>3</td>\n",
              "      <td>4</td>\n",
              "    </tr>\n",
              "    <tr>\n",
              "      <th>PBH_55L</th>\n",
              "      <td>1</td>\n",
              "      <td>1</td>\n",
              "      <td>1</td>\n",
              "      <td>1</td>\n",
              "      <td>1</td>\n",
              "    </tr>\n",
              "    <tr>\n",
              "      <th>PCSIZMIZ</th>\n",
              "      <td>2</td>\n",
              "      <td>3</td>\n",
              "      <td>3</td>\n",
              "      <td>2</td>\n",
              "      <td>3</td>\n",
              "    </tr>\n",
              "    <tr>\n",
              "      <th>PIIDFLAG</th>\n",
              "      <td>2</td>\n",
              "      <td>2</td>\n",
              "      <td>2</td>\n",
              "      <td>2</td>\n",
              "      <td>2</td>\n",
              "    </tr>\n",
              "    <tr>\n",
              "      <th>PIMMST</th>\n",
              "      <td>1</td>\n",
              "      <td>1</td>\n",
              "      <td>1</td>\n",
              "      <td>1</td>\n",
              "      <td>2</td>\n",
              "    </tr>\n",
              "    <tr>\n",
              "      <th>PLM_30</th>\n",
              "      <td>5</td>\n",
              "      <td>4</td>\n",
              "      <td>5</td>\n",
              "      <td>5</td>\n",
              "      <td>4</td>\n",
              "    </tr>\n",
              "    <tr>\n",
              "      <th>PLM_40</th>\n",
              "      <td>4</td>\n",
              "      <td>4</td>\n",
              "      <td>4</td>\n",
              "      <td>3</td>\n",
              "      <td>5</td>\n",
              "    </tr>\n",
              "    <tr>\n",
              "      <th>PPROV</th>\n",
              "      <td>35</td>\n",
              "      <td>13</td>\n",
              "      <td>12</td>\n",
              "      <td>48</td>\n",
              "      <td>59</td>\n",
              "    </tr>\n",
              "    <tr>\n",
              "      <th>PRURURB</th>\n",
              "      <td>2</td>\n",
              "      <td>2</td>\n",
              "      <td>2</td>\n",
              "      <td>2</td>\n",
              "      <td>2</td>\n",
              "    </tr>\n",
              "    <tr>\n",
              "      <th>PVISMIN</th>\n",
              "      <td>1</td>\n",
              "      <td>2</td>\n",
              "      <td>2</td>\n",
              "      <td>2</td>\n",
              "      <td>1</td>\n",
              "    </tr>\n",
              "    <tr>\n",
              "      <th>PAGEGR</th>\n",
              "      <td>6</td>\n",
              "      <td>7</td>\n",
              "      <td>4</td>\n",
              "      <td>4</td>\n",
              "      <td>7</td>\n",
              "    </tr>\n",
              "    <tr>\n",
              "      <th>PUMFFACT</th>\n",
              "      <td>0.4165</td>\n",
              "      <td>0.7167</td>\n",
              "      <td>0.5585</td>\n",
              "      <td>1.9391</td>\n",
              "      <td>0.5311</td>\n",
              "    </tr>\n",
              "  </tbody>\n",
              "</table>\n",
              "</div>"
            ],
            "text/plain": [
              "                   0           1           2           3           4\n",
              "PUMFID          5106        5107        5108        5109        5110\n",
              "VERDATE   10/06/2020  10/06/2020  10/06/2020  10/06/2020  10/06/2020\n",
              "MH_05              3           3           1           2           3\n",
              "MH_10              3           3           3           4           4\n",
              "MH_15A             3           3           1           3           3\n",
              "MH_15B             4           1           1           3           2\n",
              "MH_15C             2           2           1           2           2\n",
              "MH_15D             2           2           1           3           2\n",
              "MH_15E             2           1           1           2           3\n",
              "MH_15F             2           2           1           3           3\n",
              "MH_15G             3           1           1           1           3\n",
              "MH_20              5           2           2           3           3\n",
              "BH_60A             4           3           3           3           3\n",
              "BH_60B             3           4           4           3           4\n",
              "BH_60C             4           4           3           3           4\n",
              "BH_55A             2           2           1           2           1\n",
              "BH_55B             3           2           1           4           2\n",
              "BH_55C             4           3           2           3           3\n",
              "BH_55D             4           3           3           2           2\n",
              "BH_55E             4           4           3           1           2\n",
              "BH_55F             4           2           2           2           2\n",
              "BH_55G             1           2           2           1           2\n",
              "BH_55H             2           2           3           2           2\n",
              "BH_55I             4           2           3           1           1\n",
              "BH_55J             4           2           2           2           1\n",
              "BH_55K             2           2           2           2           2\n",
              "DEM_10             2           2           1           1           2\n",
              "MHDVMHI            2           2           4           3           2\n",
              "ANXDVGAD          11           5           0          10          11\n",
              "ANXDVGAC           1           2           2           1           1\n",
              "ANXDVSEV           3           2           0           3           3\n",
              "AGEGR_10           4           4           3           3           4\n",
              "PBH_55L            1           1           1           1           1\n",
              "PCSIZMIZ           2           3           3           2           3\n",
              "PIIDFLAG           2           2           2           2           2\n",
              "PIMMST             1           1           1           1           2\n",
              "PLM_30             5           4           5           5           4\n",
              "PLM_40             4           4           4           3           5\n",
              "PPROV             35          13          12          48          59\n",
              "PRURURB            2           2           2           2           2\n",
              "PVISMIN            1           2           2           2           1\n",
              "PAGEGR             6           7           4           4           7\n",
              "PUMFFACT      0.4165      0.7167      0.5585      1.9391      0.5311"
            ]
          },
          "metadata": {},
          "execution_count": 81
        }
      ]
    },
    {
      "cell_type": "code",
      "metadata": {
        "id": "b00726dd",
        "colab": {
          "base_uri": "https://localhost:8080/"
        },
        "outputId": "362e0a0f-4646-42f7-dc7b-262db7ed32f5"
      },
      "source": [
        "df.info() # tomando informações sobre o tipo das variáveis parametrizadas na chamada"
      ],
      "id": "b00726dd",
      "execution_count": null,
      "outputs": [
        {
          "output_type": "stream",
          "name": "stdout",
          "text": [
            "<class 'pandas.core.frame.DataFrame'>\n",
            "RangeIndex: 45989 entries, 0 to 45988\n",
            "Data columns (total 43 columns):\n",
            " #   Column    Non-Null Count  Dtype  \n",
            "---  ------    --------------  -----  \n",
            " 0   PUMFID    45989 non-null  int64  \n",
            " 1   VERDATE   45989 non-null  object \n",
            " 2   MH_05     45989 non-null  int64  \n",
            " 3   MH_10     45989 non-null  int64  \n",
            " 4   MH_15A    45989 non-null  int64  \n",
            " 5   MH_15B    45989 non-null  int64  \n",
            " 6   MH_15C    45989 non-null  int64  \n",
            " 7   MH_15D    45989 non-null  int64  \n",
            " 8   MH_15E    45989 non-null  int64  \n",
            " 9   MH_15F    45989 non-null  int64  \n",
            " 10  MH_15G    45989 non-null  int64  \n",
            " 11  MH_20     45989 non-null  int64  \n",
            " 12  BH_60A    45989 non-null  int64  \n",
            " 13  BH_60B    45989 non-null  int64  \n",
            " 14  BH_60C    45989 non-null  int64  \n",
            " 15  BH_55A    45989 non-null  int64  \n",
            " 16  BH_55B    45989 non-null  int64  \n",
            " 17  BH_55C    45989 non-null  int64  \n",
            " 18  BH_55D    45989 non-null  int64  \n",
            " 19  BH_55E    45989 non-null  int64  \n",
            " 20  BH_55F    45989 non-null  int64  \n",
            " 21  BH_55G    45989 non-null  int64  \n",
            " 22  BH_55H    45989 non-null  int64  \n",
            " 23  BH_55I    45989 non-null  int64  \n",
            " 24  BH_55J    45989 non-null  int64  \n",
            " 25  BH_55K    45989 non-null  int64  \n",
            " 26  DEM_10    45989 non-null  int64  \n",
            " 27  MHDVMHI   45989 non-null  int64  \n",
            " 28  ANXDVGAD  45989 non-null  int64  \n",
            " 29  ANXDVGAC  45989 non-null  int64  \n",
            " 30  ANXDVSEV  45989 non-null  int64  \n",
            " 31  AGEGR_10  45989 non-null  int64  \n",
            " 32  PBH_55L   45989 non-null  int64  \n",
            " 33  PCSIZMIZ  45989 non-null  int64  \n",
            " 34  PIIDFLAG  45989 non-null  int64  \n",
            " 35  PIMMST    45989 non-null  int64  \n",
            " 36  PLM_30    45989 non-null  int64  \n",
            " 37  PLM_40    45989 non-null  int64  \n",
            " 38  PPROV     45989 non-null  int64  \n",
            " 39  PRURURB   45989 non-null  int64  \n",
            " 40  PVISMIN   45989 non-null  int64  \n",
            " 41  PAGEGR    45989 non-null  int64  \n",
            " 42  PUMFFACT  45989 non-null  float64\n",
            "dtypes: float64(1), int64(41), object(1)\n",
            "memory usage: 15.1+ MB\n"
          ]
        }
      ]
    },
    {
      "cell_type": "markdown",
      "metadata": {
        "id": "8024f706"
      },
      "source": [
        "# 3) Transformação das Variáveis\n",
        "\n",
        "Neste etapa, foi realizada a transformação da variável target. A variável escolhida foi ANXDVGAC 44-44 Generalized Anxiety Disorder Cut-point, cujo resultado é proveniente da realização do teste GAD-7. O resultado é estratificado em variável binária: 1 para aqueles que atingiram o cut-point de severidade e 2 para aqueles que não atingiram. \n",
        "\n",
        "Das 45.989 observações, 623 não apresentaram o desfecho, representado, portanto, valores missing. Como o valor é relativamente baixo, considerando a totalidade do grupo, os 623 indivíduos foram retirados do modelo. \n",
        "\n",
        "Nas linhas abaixo, transformamos a variável dicotômica 1 e 2 para o formato 1 e 0, criamos o conjunto features, que representa as variáveis X e ou conjunto outcome, que representa a variável y. "
      ],
      "id": "8024f706"
    },
    {
      "cell_type": "code",
      "metadata": {
        "id": "df6ae136",
        "colab": {
          "base_uri": "https://localhost:8080/",
          "height": 86
        },
        "outputId": "afdcabe5-d05f-43c6-b007-9ccf018ce7da"
      },
      "source": [
        "# 3) Transformação das Variáveis\n",
        "# 3.1) Gerando variável target\n",
        "df['ANXDVGAC'] = [0 if x == 2 else 1 if x == 1 else 9 for x in df['ANXDVGAC']]\n",
        "display(df['ANXDVGAC'].value_counts())"
      ],
      "id": "df6ae136",
      "execution_count": null,
      "outputs": [
        {
          "output_type": "display_data",
          "data": {
            "text/plain": [
              "0    32167\n",
              "1    13199\n",
              "9      623\n",
              "Name: ANXDVGAC, dtype: int64"
            ]
          },
          "metadata": {}
        }
      ]
    },
    {
      "cell_type": "code",
      "metadata": {
        "id": "31eb7b7f",
        "colab": {
          "base_uri": "https://localhost:8080/",
          "height": 69
        },
        "outputId": "c5462ece-62bf-452e-fc05-53c28cc944bc"
      },
      "source": [
        "# Removendo os desfechos com NaN\n",
        "df_filtrado = df[df[\"ANXDVGAC\"] != 9]\n",
        "display(df_filtrado['ANXDVGAC'].value_counts())"
      ],
      "id": "31eb7b7f",
      "execution_count": null,
      "outputs": [
        {
          "output_type": "display_data",
          "data": {
            "text/plain": [
              "0    32167\n",
              "1    13199\n",
              "Name: ANXDVGAC, dtype: int64"
            ]
          },
          "metadata": {}
        }
      ]
    },
    {
      "cell_type": "code",
      "metadata": {
        "id": "79f7ad07"
      },
      "source": [
        "# Separando os conjuntos de dados entre variáveis \"preditoras\" e desfecho\n",
        "\n",
        "features = df_filtrado.drop('ANXDVGAC',1)\n",
        "outcome = df_filtrado.ANXDVGAC\n",
        "np.random.seed(42)"
      ],
      "id": "79f7ad07",
      "execution_count": null,
      "outputs": []
    },
    {
      "cell_type": "markdown",
      "metadata": {
        "id": "a3ffcaac"
      },
      "source": [
        "# 4) Separação entre treino e teste\n",
        "\n",
        "Nesta etapa, o conjunto de dados foi separado entre treino e teste, com a proporção de 80% e 20%, respectivamente. \n",
        "\n",
        "Além disso, foram expurgadas variáveis candidatas a possível vazamento de informação. Foram elas:\n",
        "* PUMFID 01-05 Public use microdata file identifier \n",
        "* VERDATE 06-15 Version date of when the file was created \n",
        "* MH_15A 18-18 Feeling nervous, anxious or on edge - Freq last 2 weeks \n",
        "* ANXDVGAD 42-43 Generalized Anxiety Severity Score \n",
        "* ANXDVSEV 45-45 Severity of Generalized Anxiety \n",
        "* PUMFFACT 62-73 Factor to benchmark survey to population totals, stand to num particip "
      ],
      "id": "a3ffcaac"
    },
    {
      "cell_type": "code",
      "metadata": {
        "id": "571fd5aa"
      },
      "source": [
        "X_train, X_test, y_train, y_test = train_test_split(features, outcome, test_size=0.2)"
      ],
      "id": "571fd5aa",
      "execution_count": null,
      "outputs": []
    },
    {
      "cell_type": "code",
      "metadata": {
        "id": "4cfe818f",
        "colab": {
          "base_uri": "https://localhost:8080/"
        },
        "outputId": "f8d9e376-f9d6-4bb8-8aeb-85f75bd889f8"
      },
      "source": [
        "# Obtendo o shape dos conjuntos de treino e teste\n",
        "print(f\"X_train Shape {X_train.shape}\")\n",
        "print(f\"X_test Shape {X_test.shape}\")\n",
        "print(f\"y_train Shape {y_train.shape}\")\n",
        "print(f\"y_test Shape {y_test.shape}\")"
      ],
      "id": "4cfe818f",
      "execution_count": null,
      "outputs": [
        {
          "output_type": "stream",
          "name": "stdout",
          "text": [
            "X_train Shape (36292, 42)\n",
            "X_test Shape (9074, 42)\n",
            "y_train Shape (36292,)\n",
            "y_test Shape (9074,)\n"
          ]
        }
      ]
    },
    {
      "cell_type": "code",
      "metadata": {
        "id": "d91752e5",
        "colab": {
          "base_uri": "https://localhost:8080/"
        },
        "outputId": "294d99dd-d715-4e63-9015-39cf310b4c39"
      },
      "source": [
        "X_train.info()"
      ],
      "id": "d91752e5",
      "execution_count": null,
      "outputs": [
        {
          "output_type": "stream",
          "name": "stdout",
          "text": [
            "<class 'pandas.core.frame.DataFrame'>\n",
            "Int64Index: 36292 entries, 21571 to 16007\n",
            "Data columns (total 42 columns):\n",
            " #   Column    Non-Null Count  Dtype  \n",
            "---  ------    --------------  -----  \n",
            " 0   PUMFID    36292 non-null  int64  \n",
            " 1   VERDATE   36292 non-null  object \n",
            " 2   MH_05     36292 non-null  int64  \n",
            " 3   MH_10     36292 non-null  int64  \n",
            " 4   MH_15A    36292 non-null  int64  \n",
            " 5   MH_15B    36292 non-null  int64  \n",
            " 6   MH_15C    36292 non-null  int64  \n",
            " 7   MH_15D    36292 non-null  int64  \n",
            " 8   MH_15E    36292 non-null  int64  \n",
            " 9   MH_15F    36292 non-null  int64  \n",
            " 10  MH_15G    36292 non-null  int64  \n",
            " 11  MH_20     36292 non-null  int64  \n",
            " 12  BH_60A    36292 non-null  int64  \n",
            " 13  BH_60B    36292 non-null  int64  \n",
            " 14  BH_60C    36292 non-null  int64  \n",
            " 15  BH_55A    36292 non-null  int64  \n",
            " 16  BH_55B    36292 non-null  int64  \n",
            " 17  BH_55C    36292 non-null  int64  \n",
            " 18  BH_55D    36292 non-null  int64  \n",
            " 19  BH_55E    36292 non-null  int64  \n",
            " 20  BH_55F    36292 non-null  int64  \n",
            " 21  BH_55G    36292 non-null  int64  \n",
            " 22  BH_55H    36292 non-null  int64  \n",
            " 23  BH_55I    36292 non-null  int64  \n",
            " 24  BH_55J    36292 non-null  int64  \n",
            " 25  BH_55K    36292 non-null  int64  \n",
            " 26  DEM_10    36292 non-null  int64  \n",
            " 27  MHDVMHI   36292 non-null  int64  \n",
            " 28  ANXDVGAD  36292 non-null  int64  \n",
            " 29  ANXDVSEV  36292 non-null  int64  \n",
            " 30  AGEGR_10  36292 non-null  int64  \n",
            " 31  PBH_55L   36292 non-null  int64  \n",
            " 32  PCSIZMIZ  36292 non-null  int64  \n",
            " 33  PIIDFLAG  36292 non-null  int64  \n",
            " 34  PIMMST    36292 non-null  int64  \n",
            " 35  PLM_30    36292 non-null  int64  \n",
            " 36  PLM_40    36292 non-null  int64  \n",
            " 37  PPROV     36292 non-null  int64  \n",
            " 38  PRURURB   36292 non-null  int64  \n",
            " 39  PVISMIN   36292 non-null  int64  \n",
            " 40  PAGEGR    36292 non-null  int64  \n",
            " 41  PUMFFACT  36292 non-null  float64\n",
            "dtypes: float64(1), int64(40), object(1)\n",
            "memory usage: 11.9+ MB\n"
          ]
        }
      ]
    },
    {
      "cell_type": "code",
      "metadata": {
        "scrolled": true,
        "id": "037bb518",
        "colab": {
          "base_uri": "https://localhost:8080/",
          "height": 1000
        },
        "outputId": "5aa4e29b-0e45-4323-e15c-cbf490f2ed85"
      },
      "source": [
        "# Verificando quantas categorias por variável existem       \n",
        "cat_stats = pd.DataFrame(columns = ['Coluna', 'Valores', 'Contagem de Categorias'])\n",
        "tmp = pd.DataFrame()\n",
        "\n",
        "for c in X_train.columns:\n",
        "    tmp['Coluna'] = [c]\n",
        "    tmp['Valores'] = [X_train[c].unique()]\n",
        "    tmp['Contagem de Categorias'] = f\"A variável {c} possui {len(list(X_train[c].unique()))} categorias únicas\"\n",
        "\n",
        "    cat_stats = cat_stats.append(tmp)\n",
        "    \n",
        "cat_stats\n"
      ],
      "id": "037bb518",
      "execution_count": null,
      "outputs": [
        {
          "output_type": "execute_result",
          "data": {
            "text/html": [
              "<div>\n",
              "<style scoped>\n",
              "    .dataframe tbody tr th:only-of-type {\n",
              "        vertical-align: middle;\n",
              "    }\n",
              "\n",
              "    .dataframe tbody tr th {\n",
              "        vertical-align: top;\n",
              "    }\n",
              "\n",
              "    .dataframe thead th {\n",
              "        text-align: right;\n",
              "    }\n",
              "</style>\n",
              "<table border=\"1\" class=\"dataframe\">\n",
              "  <thead>\n",
              "    <tr style=\"text-align: right;\">\n",
              "      <th></th>\n",
              "      <th>Coluna</th>\n",
              "      <th>Valores</th>\n",
              "      <th>Contagem de Categorias</th>\n",
              "    </tr>\n",
              "  </thead>\n",
              "  <tbody>\n",
              "    <tr>\n",
              "      <th>0</th>\n",
              "      <td>PUMFID</td>\n",
              "      <td>[26677, 38141, 19469, 9503, 10169, 43456, 1209...</td>\n",
              "      <td>A variável PUMFID possui 36292 categorias únicas</td>\n",
              "    </tr>\n",
              "    <tr>\n",
              "      <th>0</th>\n",
              "      <td>VERDATE</td>\n",
              "      <td>[10/06/2020]</td>\n",
              "      <td>A variável VERDATE possui 1 categorias únicas</td>\n",
              "    </tr>\n",
              "    <tr>\n",
              "      <th>0</th>\n",
              "      <td>MH_05</td>\n",
              "      <td>[2, 4, 3, 5, 1, 9]</td>\n",
              "      <td>A variável MH_05 possui 6 categorias únicas</td>\n",
              "    </tr>\n",
              "    <tr>\n",
              "      <th>0</th>\n",
              "      <td>MH_10</td>\n",
              "      <td>[2, 4, 3, 5, 9, 1]</td>\n",
              "      <td>A variável MH_10 possui 6 categorias únicas</td>\n",
              "    </tr>\n",
              "    <tr>\n",
              "      <th>0</th>\n",
              "      <td>MH_15A</td>\n",
              "      <td>[1, 4, 2, 3]</td>\n",
              "      <td>A variável MH_15A possui 4 categorias únicas</td>\n",
              "    </tr>\n",
              "    <tr>\n",
              "      <th>0</th>\n",
              "      <td>MH_15B</td>\n",
              "      <td>[1, 4, 3, 2]</td>\n",
              "      <td>A variável MH_15B possui 4 categorias únicas</td>\n",
              "    </tr>\n",
              "    <tr>\n",
              "      <th>0</th>\n",
              "      <td>MH_15C</td>\n",
              "      <td>[1, 4, 3, 2]</td>\n",
              "      <td>A variável MH_15C possui 4 categorias únicas</td>\n",
              "    </tr>\n",
              "    <tr>\n",
              "      <th>0</th>\n",
              "      <td>MH_15D</td>\n",
              "      <td>[1, 4, 3, 2]</td>\n",
              "      <td>A variável MH_15D possui 4 categorias únicas</td>\n",
              "    </tr>\n",
              "    <tr>\n",
              "      <th>0</th>\n",
              "      <td>MH_15E</td>\n",
              "      <td>[1, 3, 2, 4]</td>\n",
              "      <td>A variável MH_15E possui 4 categorias únicas</td>\n",
              "    </tr>\n",
              "    <tr>\n",
              "      <th>0</th>\n",
              "      <td>MH_15F</td>\n",
              "      <td>[1, 4, 3, 2]</td>\n",
              "      <td>A variável MH_15F possui 4 categorias únicas</td>\n",
              "    </tr>\n",
              "    <tr>\n",
              "      <th>0</th>\n",
              "      <td>MH_15G</td>\n",
              "      <td>[1, 2, 3, 4]</td>\n",
              "      <td>A variável MH_15G possui 4 categorias únicas</td>\n",
              "    </tr>\n",
              "    <tr>\n",
              "      <th>0</th>\n",
              "      <td>MH_20</td>\n",
              "      <td>[2, 3, 4, 5, 1, 9]</td>\n",
              "      <td>A variável MH_20 possui 6 categorias únicas</td>\n",
              "    </tr>\n",
              "    <tr>\n",
              "      <th>0</th>\n",
              "      <td>BH_60A</td>\n",
              "      <td>[3, 4, 1, 2, 9]</td>\n",
              "      <td>A variável BH_60A possui 5 categorias únicas</td>\n",
              "    </tr>\n",
              "    <tr>\n",
              "      <th>0</th>\n",
              "      <td>BH_60B</td>\n",
              "      <td>[4, 3, 9, 2, 1]</td>\n",
              "      <td>A variável BH_60B possui 5 categorias únicas</td>\n",
              "    </tr>\n",
              "    <tr>\n",
              "      <th>0</th>\n",
              "      <td>BH_60C</td>\n",
              "      <td>[4, 3, 9, 2, 1]</td>\n",
              "      <td>A variável BH_60C possui 5 categorias únicas</td>\n",
              "    </tr>\n",
              "    <tr>\n",
              "      <th>0</th>\n",
              "      <td>BH_55A</td>\n",
              "      <td>[2, 3, 1, 4, 9]</td>\n",
              "      <td>A variável BH_55A possui 5 categorias únicas</td>\n",
              "    </tr>\n",
              "    <tr>\n",
              "      <th>0</th>\n",
              "      <td>BH_55B</td>\n",
              "      <td>[2, 3, 1, 4, 9]</td>\n",
              "      <td>A variável BH_55B possui 5 categorias únicas</td>\n",
              "    </tr>\n",
              "    <tr>\n",
              "      <th>0</th>\n",
              "      <td>BH_55C</td>\n",
              "      <td>[3, 2, 4, 1, 9]</td>\n",
              "      <td>A variável BH_55C possui 5 categorias únicas</td>\n",
              "    </tr>\n",
              "    <tr>\n",
              "      <th>0</th>\n",
              "      <td>BH_55D</td>\n",
              "      <td>[2, 1, 3, 4, 9]</td>\n",
              "      <td>A variável BH_55D possui 5 categorias únicas</td>\n",
              "    </tr>\n",
              "    <tr>\n",
              "      <th>0</th>\n",
              "      <td>BH_55E</td>\n",
              "      <td>[2, 1, 3, 4, 9]</td>\n",
              "      <td>A variável BH_55E possui 5 categorias únicas</td>\n",
              "    </tr>\n",
              "    <tr>\n",
              "      <th>0</th>\n",
              "      <td>BH_55F</td>\n",
              "      <td>[2, 4, 3, 1, 9]</td>\n",
              "      <td>A variável BH_55F possui 5 categorias únicas</td>\n",
              "    </tr>\n",
              "    <tr>\n",
              "      <th>0</th>\n",
              "      <td>BH_55G</td>\n",
              "      <td>[1, 3, 2, 4, 9]</td>\n",
              "      <td>A variável BH_55G possui 5 categorias únicas</td>\n",
              "    </tr>\n",
              "    <tr>\n",
              "      <th>0</th>\n",
              "      <td>BH_55H</td>\n",
              "      <td>[3, 4, 2, 1, 9]</td>\n",
              "      <td>A variável BH_55H possui 5 categorias únicas</td>\n",
              "    </tr>\n",
              "    <tr>\n",
              "      <th>0</th>\n",
              "      <td>BH_55I</td>\n",
              "      <td>[1, 3, 2, 4, 9]</td>\n",
              "      <td>A variável BH_55I possui 5 categorias únicas</td>\n",
              "    </tr>\n",
              "    <tr>\n",
              "      <th>0</th>\n",
              "      <td>BH_55J</td>\n",
              "      <td>[1, 3, 2, 4, 9]</td>\n",
              "      <td>A variável BH_55J possui 5 categorias únicas</td>\n",
              "    </tr>\n",
              "    <tr>\n",
              "      <th>0</th>\n",
              "      <td>BH_55K</td>\n",
              "      <td>[3, 2, 1, 4, 9]</td>\n",
              "      <td>A variável BH_55K possui 5 categorias únicas</td>\n",
              "    </tr>\n",
              "    <tr>\n",
              "      <th>0</th>\n",
              "      <td>DEM_10</td>\n",
              "      <td>[2, 1]</td>\n",
              "      <td>A variável DEM_10 possui 2 categorias únicas</td>\n",
              "    </tr>\n",
              "    <tr>\n",
              "      <th>0</th>\n",
              "      <td>MHDVMHI</td>\n",
              "      <td>[3, 1, 2, 0, 4, 9]</td>\n",
              "      <td>A variável MHDVMHI possui 6 categorias únicas</td>\n",
              "    </tr>\n",
              "    <tr>\n",
              "      <th>0</th>\n",
              "      <td>ANXDVGAD</td>\n",
              "      <td>[0, 16, 15, 7, 4, 11, 1, 5, 21, 2, 18, 14, 9, ...</td>\n",
              "      <td>A variável ANXDVGAD possui 22 categorias únicas</td>\n",
              "    </tr>\n",
              "    <tr>\n",
              "      <th>0</th>\n",
              "      <td>ANXDVSEV</td>\n",
              "      <td>[0, 4, 2, 1, 3]</td>\n",
              "      <td>A variável ANXDVSEV possui 5 categorias únicas</td>\n",
              "    </tr>\n",
              "    <tr>\n",
              "      <th>0</th>\n",
              "      <td>AGEGR_10</td>\n",
              "      <td>[5, 2, 3, 4, 1, 6]</td>\n",
              "      <td>A variável AGEGR_10 possui 6 categorias únicas</td>\n",
              "    </tr>\n",
              "    <tr>\n",
              "      <th>0</th>\n",
              "      <td>PBH_55L</td>\n",
              "      <td>[1, 9, 2, 4, 3]</td>\n",
              "      <td>A variável PBH_55L possui 5 categorias únicas</td>\n",
              "    </tr>\n",
              "    <tr>\n",
              "      <th>0</th>\n",
              "      <td>PCSIZMIZ</td>\n",
              "      <td>[2, 4, 3, 1, 5, 9]</td>\n",
              "      <td>A variável PCSIZMIZ possui 6 categorias únicas</td>\n",
              "    </tr>\n",
              "    <tr>\n",
              "      <th>0</th>\n",
              "      <td>PIIDFLAG</td>\n",
              "      <td>[2, 1, 9]</td>\n",
              "      <td>A variável PIIDFLAG possui 3 categorias únicas</td>\n",
              "    </tr>\n",
              "    <tr>\n",
              "      <th>0</th>\n",
              "      <td>PIMMST</td>\n",
              "      <td>[1, 2, 9]</td>\n",
              "      <td>A variável PIMMST possui 3 categorias únicas</td>\n",
              "    </tr>\n",
              "    <tr>\n",
              "      <th>0</th>\n",
              "      <td>PLM_30</td>\n",
              "      <td>[5, 6, 3, 4, 2, 1, 99]</td>\n",
              "      <td>A variável PLM_30 possui 7 categorias únicas</td>\n",
              "    </tr>\n",
              "    <tr>\n",
              "      <th>0</th>\n",
              "      <td>PLM_40</td>\n",
              "      <td>[4, 2, 3, 5, 1, 9]</td>\n",
              "      <td>A variável PLM_40 possui 6 categorias únicas</td>\n",
              "    </tr>\n",
              "    <tr>\n",
              "      <th>0</th>\n",
              "      <td>PPROV</td>\n",
              "      <td>[24, 35, 48, 59, 12, 46, 47, 63, 13, 10, 11]</td>\n",
              "      <td>A variável PPROV possui 11 categorias únicas</td>\n",
              "    </tr>\n",
              "    <tr>\n",
              "      <th>0</th>\n",
              "      <td>PRURURB</td>\n",
              "      <td>[2, 1, 9]</td>\n",
              "      <td>A variável PRURURB possui 3 categorias únicas</td>\n",
              "    </tr>\n",
              "    <tr>\n",
              "      <th>0</th>\n",
              "      <td>PVISMIN</td>\n",
              "      <td>[2, 1, 9]</td>\n",
              "      <td>A variável PVISMIN possui 3 categorias únicas</td>\n",
              "    </tr>\n",
              "    <tr>\n",
              "      <th>0</th>\n",
              "      <td>PAGEGR</td>\n",
              "      <td>[8, 2, 5, 9, 3, 7, 6, 1, 4, 10]</td>\n",
              "      <td>A variável PAGEGR possui 10 categorias únicas</td>\n",
              "    </tr>\n",
              "    <tr>\n",
              "      <th>0</th>\n",
              "      <td>PUMFFACT</td>\n",
              "      <td>[1.4497, 1.4181, 1.0574, 0.5647, 0.6101, 0.382...</td>\n",
              "      <td>A variável PUMFFACT possui 156 categorias únicas</td>\n",
              "    </tr>\n",
              "  </tbody>\n",
              "</table>\n",
              "</div>"
            ],
            "text/plain": [
              "     Coluna  ...                            Contagem de Categorias\n",
              "0    PUMFID  ...  A variável PUMFID possui 36292 categorias únicas\n",
              "0   VERDATE  ...     A variável VERDATE possui 1 categorias únicas\n",
              "0     MH_05  ...       A variável MH_05 possui 6 categorias únicas\n",
              "0     MH_10  ...       A variável MH_10 possui 6 categorias únicas\n",
              "0    MH_15A  ...      A variável MH_15A possui 4 categorias únicas\n",
              "0    MH_15B  ...      A variável MH_15B possui 4 categorias únicas\n",
              "0    MH_15C  ...      A variável MH_15C possui 4 categorias únicas\n",
              "0    MH_15D  ...      A variável MH_15D possui 4 categorias únicas\n",
              "0    MH_15E  ...      A variável MH_15E possui 4 categorias únicas\n",
              "0    MH_15F  ...      A variável MH_15F possui 4 categorias únicas\n",
              "0    MH_15G  ...      A variável MH_15G possui 4 categorias únicas\n",
              "0     MH_20  ...       A variável MH_20 possui 6 categorias únicas\n",
              "0    BH_60A  ...      A variável BH_60A possui 5 categorias únicas\n",
              "0    BH_60B  ...      A variável BH_60B possui 5 categorias únicas\n",
              "0    BH_60C  ...      A variável BH_60C possui 5 categorias únicas\n",
              "0    BH_55A  ...      A variável BH_55A possui 5 categorias únicas\n",
              "0    BH_55B  ...      A variável BH_55B possui 5 categorias únicas\n",
              "0    BH_55C  ...      A variável BH_55C possui 5 categorias únicas\n",
              "0    BH_55D  ...      A variável BH_55D possui 5 categorias únicas\n",
              "0    BH_55E  ...      A variável BH_55E possui 5 categorias únicas\n",
              "0    BH_55F  ...      A variável BH_55F possui 5 categorias únicas\n",
              "0    BH_55G  ...      A variável BH_55G possui 5 categorias únicas\n",
              "0    BH_55H  ...      A variável BH_55H possui 5 categorias únicas\n",
              "0    BH_55I  ...      A variável BH_55I possui 5 categorias únicas\n",
              "0    BH_55J  ...      A variável BH_55J possui 5 categorias únicas\n",
              "0    BH_55K  ...      A variável BH_55K possui 5 categorias únicas\n",
              "0    DEM_10  ...      A variável DEM_10 possui 2 categorias únicas\n",
              "0   MHDVMHI  ...     A variável MHDVMHI possui 6 categorias únicas\n",
              "0  ANXDVGAD  ...   A variável ANXDVGAD possui 22 categorias únicas\n",
              "0  ANXDVSEV  ...    A variável ANXDVSEV possui 5 categorias únicas\n",
              "0  AGEGR_10  ...    A variável AGEGR_10 possui 6 categorias únicas\n",
              "0   PBH_55L  ...     A variável PBH_55L possui 5 categorias únicas\n",
              "0  PCSIZMIZ  ...    A variável PCSIZMIZ possui 6 categorias únicas\n",
              "0  PIIDFLAG  ...    A variável PIIDFLAG possui 3 categorias únicas\n",
              "0    PIMMST  ...      A variável PIMMST possui 3 categorias únicas\n",
              "0    PLM_30  ...      A variável PLM_30 possui 7 categorias únicas\n",
              "0    PLM_40  ...      A variável PLM_40 possui 6 categorias únicas\n",
              "0     PPROV  ...      A variável PPROV possui 11 categorias únicas\n",
              "0   PRURURB  ...     A variável PRURURB possui 3 categorias únicas\n",
              "0   PVISMIN  ...     A variável PVISMIN possui 3 categorias únicas\n",
              "0    PAGEGR  ...     A variável PAGEGR possui 10 categorias únicas\n",
              "0  PUMFFACT  ...  A variável PUMFFACT possui 156 categorias únicas\n",
              "\n",
              "[42 rows x 3 columns]"
            ]
          },
          "metadata": {},
          "execution_count": 12
        }
      ]
    },
    {
      "cell_type": "markdown",
      "metadata": {
        "id": "1a2a744a"
      },
      "source": [
        "# 5) Retirada de Variáveis com possível vazamento de informação\n",
        "\n",
        "Além disso, foram expurgadas variáveis candidatas a possível vazamento de informação. São elas:\n",
        "\n",
        "* PUMFID 01-05 Public use microdata file identifier\n",
        "* VERDATE 06-15 Version date of when the file was created\n",
        "* MH_15A 18-18 Feeling nervous, anxious or on edge - Freq last 2 weeks\n",
        "* ANXDVGAD 42-43 Generalized Anxiety Severity Score\n",
        "* ANXDVSEV 45-45 Severity of Generalized Anxiety\n",
        "* PUMFFACT 62-73 Factor to benchmark survey to population totals, stand to num particip"
      ],
      "id": "1a2a744a"
    },
    {
      "cell_type": "code",
      "metadata": {
        "id": "003be566"
      },
      "source": [
        "# Retirar Variáveis com possível vazamento de informação\n",
        "to_drop_list = ['PUMFID', 'VERDATE', 'MH_15A','ANXDVGAD','ANXDVSEV', 'PUMFFACT']\n",
        "X_train = X_train.drop(columns= to_drop_list)\n",
        "X_test = X_test.drop(columns= to_drop_list)"
      ],
      "id": "003be566",
      "execution_count": null,
      "outputs": []
    },
    {
      "cell_type": "code",
      "metadata": {
        "id": "2ab7d022",
        "colab": {
          "base_uri": "https://localhost:8080/",
          "height": 320
        },
        "outputId": "e9e2cf6b-e44e-45a2-dfeb-8acacb5c384d"
      },
      "source": [
        "X_train.describe()"
      ],
      "id": "2ab7d022",
      "execution_count": null,
      "outputs": [
        {
          "output_type": "execute_result",
          "data": {
            "text/html": [
              "<div>\n",
              "<style scoped>\n",
              "    .dataframe tbody tr th:only-of-type {\n",
              "        vertical-align: middle;\n",
              "    }\n",
              "\n",
              "    .dataframe tbody tr th {\n",
              "        vertical-align: top;\n",
              "    }\n",
              "\n",
              "    .dataframe thead th {\n",
              "        text-align: right;\n",
              "    }\n",
              "</style>\n",
              "<table border=\"1\" class=\"dataframe\">\n",
              "  <thead>\n",
              "    <tr style=\"text-align: right;\">\n",
              "      <th></th>\n",
              "      <th>MH_05</th>\n",
              "      <th>MH_10</th>\n",
              "      <th>MH_15B</th>\n",
              "      <th>MH_15C</th>\n",
              "      <th>MH_15D</th>\n",
              "      <th>MH_15E</th>\n",
              "      <th>MH_15F</th>\n",
              "      <th>MH_15G</th>\n",
              "      <th>MH_20</th>\n",
              "      <th>BH_60A</th>\n",
              "      <th>BH_60B</th>\n",
              "      <th>BH_60C</th>\n",
              "      <th>BH_55A</th>\n",
              "      <th>BH_55B</th>\n",
              "      <th>BH_55C</th>\n",
              "      <th>BH_55D</th>\n",
              "      <th>BH_55E</th>\n",
              "      <th>BH_55F</th>\n",
              "      <th>BH_55G</th>\n",
              "      <th>BH_55H</th>\n",
              "      <th>BH_55I</th>\n",
              "      <th>BH_55J</th>\n",
              "      <th>BH_55K</th>\n",
              "      <th>DEM_10</th>\n",
              "      <th>MHDVMHI</th>\n",
              "      <th>AGEGR_10</th>\n",
              "      <th>PBH_55L</th>\n",
              "      <th>PCSIZMIZ</th>\n",
              "      <th>PIIDFLAG</th>\n",
              "      <th>PIMMST</th>\n",
              "      <th>PLM_30</th>\n",
              "      <th>PLM_40</th>\n",
              "      <th>PPROV</th>\n",
              "      <th>PRURURB</th>\n",
              "      <th>PVISMIN</th>\n",
              "      <th>PAGEGR</th>\n",
              "    </tr>\n",
              "  </thead>\n",
              "  <tbody>\n",
              "    <tr>\n",
              "      <th>count</th>\n",
              "      <td>36292.000000</td>\n",
              "      <td>36292.000000</td>\n",
              "      <td>36292.000000</td>\n",
              "      <td>36292.000000</td>\n",
              "      <td>36292.000000</td>\n",
              "      <td>36292.000000</td>\n",
              "      <td>36292.000000</td>\n",
              "      <td>36292.000000</td>\n",
              "      <td>36292.000000</td>\n",
              "      <td>36292.000000</td>\n",
              "      <td>36292.000000</td>\n",
              "      <td>36292.000000</td>\n",
              "      <td>36292.000000</td>\n",
              "      <td>36292.000000</td>\n",
              "      <td>36292.000000</td>\n",
              "      <td>36292.000000</td>\n",
              "      <td>36292.000000</td>\n",
              "      <td>36292.000000</td>\n",
              "      <td>36292.000000</td>\n",
              "      <td>36292.000000</td>\n",
              "      <td>36292.000000</td>\n",
              "      <td>36292.000000</td>\n",
              "      <td>36292.000000</td>\n",
              "      <td>36292.000000</td>\n",
              "      <td>36292.000000</td>\n",
              "      <td>36292.000000</td>\n",
              "      <td>36292.000000</td>\n",
              "      <td>36292.000000</td>\n",
              "      <td>36292.000000</td>\n",
              "      <td>36292.000000</td>\n",
              "      <td>36292.000000</td>\n",
              "      <td>36292.000000</td>\n",
              "      <td>36292.000000</td>\n",
              "      <td>36292.000000</td>\n",
              "      <td>36292.000000</td>\n",
              "      <td>36292.000000</td>\n",
              "    </tr>\n",
              "    <tr>\n",
              "      <th>mean</th>\n",
              "      <td>2.816103</td>\n",
              "      <td>3.568968</td>\n",
              "      <td>1.889039</td>\n",
              "      <td>2.049708</td>\n",
              "      <td>2.138240</td>\n",
              "      <td>1.744902</td>\n",
              "      <td>2.214703</td>\n",
              "      <td>1.869806</td>\n",
              "      <td>3.087402</td>\n",
              "      <td>3.257770</td>\n",
              "      <td>3.780365</td>\n",
              "      <td>3.598451</td>\n",
              "      <td>2.165215</td>\n",
              "      <td>2.448115</td>\n",
              "      <td>3.083159</td>\n",
              "      <td>2.571255</td>\n",
              "      <td>2.596688</td>\n",
              "      <td>2.788769</td>\n",
              "      <td>2.113965</td>\n",
              "      <td>2.215419</td>\n",
              "      <td>2.231732</td>\n",
              "      <td>2.215282</td>\n",
              "      <td>2.163424</td>\n",
              "      <td>1.751102</td>\n",
              "      <td>2.188554</td>\n",
              "      <td>3.503003</td>\n",
              "      <td>1.081588</td>\n",
              "      <td>2.576601</td>\n",
              "      <td>1.984597</td>\n",
              "      <td>1.139314</td>\n",
              "      <td>4.737160</td>\n",
              "      <td>3.298440</td>\n",
              "      <td>36.647691</td>\n",
              "      <td>1.976000</td>\n",
              "      <td>1.986498</td>\n",
              "      <td>5.472501</td>\n",
              "    </tr>\n",
              "    <tr>\n",
              "      <th>std</th>\n",
              "      <td>1.056043</td>\n",
              "      <td>0.844277</td>\n",
              "      <td>0.965158</td>\n",
              "      <td>0.973744</td>\n",
              "      <td>1.007364</td>\n",
              "      <td>0.930418</td>\n",
              "      <td>0.983020</td>\n",
              "      <td>0.965924</td>\n",
              "      <td>0.951364</td>\n",
              "      <td>0.528996</td>\n",
              "      <td>0.563713</td>\n",
              "      <td>0.619755</td>\n",
              "      <td>0.827481</td>\n",
              "      <td>1.064161</td>\n",
              "      <td>0.863201</td>\n",
              "      <td>0.757113</td>\n",
              "      <td>0.825654</td>\n",
              "      <td>0.864695</td>\n",
              "      <td>0.926238</td>\n",
              "      <td>0.943849</td>\n",
              "      <td>0.908342</td>\n",
              "      <td>0.939330</td>\n",
              "      <td>1.000010</td>\n",
              "      <td>0.432380</td>\n",
              "      <td>1.057425</td>\n",
              "      <td>1.392642</td>\n",
              "      <td>0.502273</td>\n",
              "      <td>1.495154</td>\n",
              "      <td>0.363923</td>\n",
              "      <td>0.467618</td>\n",
              "      <td>4.782238</td>\n",
              "      <td>1.144304</td>\n",
              "      <td>13.411572</td>\n",
              "      <td>0.882913</td>\n",
              "      <td>0.801809</td>\n",
              "      <td>2.667236</td>\n",
              "    </tr>\n",
              "    <tr>\n",
              "      <th>min</th>\n",
              "      <td>1.000000</td>\n",
              "      <td>1.000000</td>\n",
              "      <td>1.000000</td>\n",
              "      <td>1.000000</td>\n",
              "      <td>1.000000</td>\n",
              "      <td>1.000000</td>\n",
              "      <td>1.000000</td>\n",
              "      <td>1.000000</td>\n",
              "      <td>1.000000</td>\n",
              "      <td>1.000000</td>\n",
              "      <td>1.000000</td>\n",
              "      <td>1.000000</td>\n",
              "      <td>1.000000</td>\n",
              "      <td>1.000000</td>\n",
              "      <td>1.000000</td>\n",
              "      <td>1.000000</td>\n",
              "      <td>1.000000</td>\n",
              "      <td>1.000000</td>\n",
              "      <td>1.000000</td>\n",
              "      <td>1.000000</td>\n",
              "      <td>1.000000</td>\n",
              "      <td>1.000000</td>\n",
              "      <td>1.000000</td>\n",
              "      <td>1.000000</td>\n",
              "      <td>0.000000</td>\n",
              "      <td>1.000000</td>\n",
              "      <td>1.000000</td>\n",
              "      <td>1.000000</td>\n",
              "      <td>1.000000</td>\n",
              "      <td>1.000000</td>\n",
              "      <td>1.000000</td>\n",
              "      <td>1.000000</td>\n",
              "      <td>10.000000</td>\n",
              "      <td>1.000000</td>\n",
              "      <td>1.000000</td>\n",
              "      <td>1.000000</td>\n",
              "    </tr>\n",
              "    <tr>\n",
              "      <th>25%</th>\n",
              "      <td>2.000000</td>\n",
              "      <td>3.000000</td>\n",
              "      <td>1.000000</td>\n",
              "      <td>1.000000</td>\n",
              "      <td>1.000000</td>\n",
              "      <td>1.000000</td>\n",
              "      <td>1.000000</td>\n",
              "      <td>1.000000</td>\n",
              "      <td>2.000000</td>\n",
              "      <td>3.000000</td>\n",
              "      <td>4.000000</td>\n",
              "      <td>3.000000</td>\n",
              "      <td>2.000000</td>\n",
              "      <td>2.000000</td>\n",
              "      <td>3.000000</td>\n",
              "      <td>2.000000</td>\n",
              "      <td>2.000000</td>\n",
              "      <td>2.000000</td>\n",
              "      <td>1.000000</td>\n",
              "      <td>2.000000</td>\n",
              "      <td>2.000000</td>\n",
              "      <td>2.000000</td>\n",
              "      <td>1.000000</td>\n",
              "      <td>2.000000</td>\n",
              "      <td>1.000000</td>\n",
              "      <td>2.000000</td>\n",
              "      <td>1.000000</td>\n",
              "      <td>1.000000</td>\n",
              "      <td>2.000000</td>\n",
              "      <td>1.000000</td>\n",
              "      <td>4.000000</td>\n",
              "      <td>3.000000</td>\n",
              "      <td>35.000000</td>\n",
              "      <td>2.000000</td>\n",
              "      <td>2.000000</td>\n",
              "      <td>3.000000</td>\n",
              "    </tr>\n",
              "    <tr>\n",
              "      <th>50%</th>\n",
              "      <td>3.000000</td>\n",
              "      <td>4.000000</td>\n",
              "      <td>2.000000</td>\n",
              "      <td>2.000000</td>\n",
              "      <td>2.000000</td>\n",
              "      <td>1.000000</td>\n",
              "      <td>2.000000</td>\n",
              "      <td>2.000000</td>\n",
              "      <td>3.000000</td>\n",
              "      <td>3.000000</td>\n",
              "      <td>4.000000</td>\n",
              "      <td>4.000000</td>\n",
              "      <td>2.000000</td>\n",
              "      <td>2.000000</td>\n",
              "      <td>3.000000</td>\n",
              "      <td>3.000000</td>\n",
              "      <td>3.000000</td>\n",
              "      <td>3.000000</td>\n",
              "      <td>2.000000</td>\n",
              "      <td>2.000000</td>\n",
              "      <td>2.000000</td>\n",
              "      <td>2.000000</td>\n",
              "      <td>2.000000</td>\n",
              "      <td>2.000000</td>\n",
              "      <td>2.000000</td>\n",
              "      <td>3.000000</td>\n",
              "      <td>1.000000</td>\n",
              "      <td>2.000000</td>\n",
              "      <td>2.000000</td>\n",
              "      <td>1.000000</td>\n",
              "      <td>5.000000</td>\n",
              "      <td>4.000000</td>\n",
              "      <td>35.000000</td>\n",
              "      <td>2.000000</td>\n",
              "      <td>2.000000</td>\n",
              "      <td>5.000000</td>\n",
              "    </tr>\n",
              "    <tr>\n",
              "      <th>75%</th>\n",
              "      <td>4.000000</td>\n",
              "      <td>4.000000</td>\n",
              "      <td>2.000000</td>\n",
              "      <td>3.000000</td>\n",
              "      <td>3.000000</td>\n",
              "      <td>2.000000</td>\n",
              "      <td>3.000000</td>\n",
              "      <td>2.000000</td>\n",
              "      <td>4.000000</td>\n",
              "      <td>4.000000</td>\n",
              "      <td>4.000000</td>\n",
              "      <td>4.000000</td>\n",
              "      <td>3.000000</td>\n",
              "      <td>3.000000</td>\n",
              "      <td>4.000000</td>\n",
              "      <td>3.000000</td>\n",
              "      <td>3.000000</td>\n",
              "      <td>3.000000</td>\n",
              "      <td>3.000000</td>\n",
              "      <td>3.000000</td>\n",
              "      <td>3.000000</td>\n",
              "      <td>3.000000</td>\n",
              "      <td>3.000000</td>\n",
              "      <td>2.000000</td>\n",
              "      <td>3.000000</td>\n",
              "      <td>5.000000</td>\n",
              "      <td>1.000000</td>\n",
              "      <td>3.000000</td>\n",
              "      <td>2.000000</td>\n",
              "      <td>1.000000</td>\n",
              "      <td>6.000000</td>\n",
              "      <td>4.000000</td>\n",
              "      <td>47.000000</td>\n",
              "      <td>2.000000</td>\n",
              "      <td>2.000000</td>\n",
              "      <td>8.000000</td>\n",
              "    </tr>\n",
              "    <tr>\n",
              "      <th>max</th>\n",
              "      <td>9.000000</td>\n",
              "      <td>9.000000</td>\n",
              "      <td>4.000000</td>\n",
              "      <td>4.000000</td>\n",
              "      <td>4.000000</td>\n",
              "      <td>4.000000</td>\n",
              "      <td>4.000000</td>\n",
              "      <td>4.000000</td>\n",
              "      <td>9.000000</td>\n",
              "      <td>9.000000</td>\n",
              "      <td>9.000000</td>\n",
              "      <td>9.000000</td>\n",
              "      <td>9.000000</td>\n",
              "      <td>9.000000</td>\n",
              "      <td>9.000000</td>\n",
              "      <td>9.000000</td>\n",
              "      <td>9.000000</td>\n",
              "      <td>9.000000</td>\n",
              "      <td>9.000000</td>\n",
              "      <td>9.000000</td>\n",
              "      <td>9.000000</td>\n",
              "      <td>9.000000</td>\n",
              "      <td>9.000000</td>\n",
              "      <td>2.000000</td>\n",
              "      <td>9.000000</td>\n",
              "      <td>6.000000</td>\n",
              "      <td>9.000000</td>\n",
              "      <td>9.000000</td>\n",
              "      <td>9.000000</td>\n",
              "      <td>9.000000</td>\n",
              "      <td>99.000000</td>\n",
              "      <td>9.000000</td>\n",
              "      <td>63.000000</td>\n",
              "      <td>9.000000</td>\n",
              "      <td>9.000000</td>\n",
              "      <td>10.000000</td>\n",
              "    </tr>\n",
              "  </tbody>\n",
              "</table>\n",
              "</div>"
            ],
            "text/plain": [
              "              MH_05         MH_10  ...       PVISMIN        PAGEGR\n",
              "count  36292.000000  36292.000000  ...  36292.000000  36292.000000\n",
              "mean       2.816103      3.568968  ...      1.986498      5.472501\n",
              "std        1.056043      0.844277  ...      0.801809      2.667236\n",
              "min        1.000000      1.000000  ...      1.000000      1.000000\n",
              "25%        2.000000      3.000000  ...      2.000000      3.000000\n",
              "50%        3.000000      4.000000  ...      2.000000      5.000000\n",
              "75%        4.000000      4.000000  ...      2.000000      8.000000\n",
              "max        9.000000      9.000000  ...      9.000000     10.000000\n",
              "\n",
              "[8 rows x 36 columns]"
            ]
          },
          "metadata": {},
          "execution_count": 14
        }
      ]
    },
    {
      "cell_type": "markdown",
      "metadata": {
        "id": "c022c18d"
      },
      "source": [
        "# 6)  Correlação/Teste de dependência\n",
        "\n",
        "* Objetivo: como estmaos diante de variáveis categóricas, o objetivo é gerar uma matrix de dependência entre as variáveis, com resultado do p-valor relativo ao seguinte teste de hipóteses:\n",
        "    * H0: variáveis são dependentes\n",
        "    * H1: Variáveis são independentes.\n",
        "    \n",
        "Retirado de: https://www.analyticsvidhya.com/blog/2021/06/decoding-the-chi-square-test%E2%80%8A-%E2%80%8Ause-along-with-implementation-and-visualization/"
      ],
      "id": "c022c18d"
    },
    {
      "cell_type": "code",
      "metadata": {
        "id": "c524153d"
      },
      "source": [
        "from sklearn.feature_selection import chi2\n",
        "import numpy as np\n",
        "import pandas as pd\n",
        "import matplotlib.pyplot as plt\n",
        "import seaborn as sns"
      ],
      "id": "c524153d",
      "execution_count": null,
      "outputs": []
    },
    {
      "cell_type": "code",
      "metadata": {
        "id": "adc2f5ba",
        "colab": {
          "base_uri": "https://localhost:8080/"
        },
        "outputId": "c3a9165f-18cc-42ef-b465-1fa2ab905ecb"
      },
      "source": [
        "resultant = pd.DataFrame(data=[(0 for i in range(len(X_train.columns))) for i in range(len(X_train.columns))], \n",
        "                         columns=list(X_train.columns))\n",
        "resultant.set_index(pd.Index(list(X_train.columns)), inplace = True)\n",
        "\n",
        "# Encontrando os p-valores para as variáveis e formatando em matriz de p-valor\n",
        "\n",
        "for i in list(X_train.columns):\n",
        "    for j in list(X_train.columns):\n",
        "        if i != j:\n",
        "            chi2_val, p_val = chi2(np.array(df[i]).reshape(-1, 1), np.array(df[j]).reshape(-1, 1))\n",
        "            resultant.loc[i,j] = p_val\n",
        "print(resultant)"
      ],
      "id": "adc2f5ba",
      "execution_count": null,
      "outputs": [
        {
          "output_type": "stream",
          "name": "stdout",
          "text": [
            "                  MH_05          MH_10  ...        PVISMIN         PAGEGR\n",
            "MH_05      0.000000e+00   0.000000e+00  ...   1.033553e-01  7.772129e-217\n",
            "MH_10     1.785972e-290   0.000000e+00  ...   3.189013e-04   1.046033e-35\n",
            "MH_15B     0.000000e+00   0.000000e+00  ...   1.023397e-02  1.513153e-104\n",
            "MH_15C     0.000000e+00   0.000000e+00  ...   9.300869e-06  2.002208e-143\n",
            "MH_15D     0.000000e+00   0.000000e+00  ...   4.041331e-01  1.977177e-160\n",
            "MH_15E     0.000000e+00   0.000000e+00  ...   6.363094e-03   1.875525e-88\n",
            "MH_15F     0.000000e+00   0.000000e+00  ...   6.206860e-01  2.576263e-248\n",
            "MH_15G     0.000000e+00   0.000000e+00  ...   4.098950e-04   3.392451e-61\n",
            "MH_20      0.000000e+00   0.000000e+00  ...   7.231232e-01  3.814454e-153\n",
            "BH_60A     2.182188e-01   4.792892e-01  ...   7.379273e-01   8.834370e-04\n",
            "BH_60B     9.190624e-01   7.702632e-01  ...   9.547041e-01   1.147364e-01\n",
            "BH_60C     1.075317e-06   5.942042e-06  ...   2.242018e-01   2.475007e-47\n",
            "BH_55A    2.085930e-105   2.950955e-80  ...   1.301367e-03   7.425774e-19\n",
            "BH_55B     9.550070e-96   2.239338e-85  ...   1.948528e-26   6.163376e-06\n",
            "BH_55C     1.727079e-69   1.858310e-66  ...   4.896605e-03   3.420487e-69\n",
            "BH_55D     6.356385e-36   3.181012e-24  ...   4.310693e-07   6.135431e-03\n",
            "BH_55E     1.962646e-24   1.462687e-11  ...   2.273604e-06   5.230272e-05\n",
            "BH_55F     1.052203e-40   9.297392e-22  ...   6.700080e-10   5.788595e-21\n",
            "BH_55G     5.252402e-96   7.621444e-90  ...   8.648299e-24   7.155400e-39\n",
            "BH_55H    1.883426e-149   0.000000e+00  ...   1.017691e-04   6.920398e-18\n",
            "BH_55I    8.260384e-186  1.683907e-250  ...   1.028596e-19   4.739677e-39\n",
            "BH_55J    3.719139e-226  7.653866e-227  ...   2.073391e-20  2.395209e-103\n",
            "BH_55K     0.000000e+00   0.000000e+00  ...   1.326426e-11   8.128780e-90\n",
            "DEM_10     7.834876e-14   1.367584e-08  ...   1.862165e-06   7.436158e-02\n",
            "MHDVMHI    0.000000e+00   0.000000e+00  ...   4.926398e-02  5.012764e-289\n",
            "AGEGR_10  9.377178e-302  7.115782e-238  ...  3.989011e-153   0.000000e+00\n",
            "PBH_55L    3.881519e-16   5.664364e-19  ...   1.776636e-08   4.687598e-02\n",
            "PCSIZMIZ   9.094035e-02   2.651114e-04  ...  4.633982e-293  1.507851e-103\n",
            "PIIDFLAG   8.452303e-01   9.135801e-01  ...   3.591070e-04   9.601948e-01\n",
            "PIMMST     1.480380e-01   1.220812e-03  ...  1.159646e-190   1.591600e-02\n",
            "PLM_30     3.057966e-33   1.783988e-96  ...   7.155354e-43   0.000000e+00\n",
            "PLM_40    1.752504e-116   3.854547e-90  ...   1.982012e-15   1.527841e-61\n",
            "PPROV      3.795750e-57   3.218582e-13  ...  2.878011e-120   2.386717e-41\n",
            "PRURURB    4.484260e-01   4.119224e-01  ...   1.154064e-05   2.483066e-06\n",
            "PVISMIN    5.943073e-01   5.453737e-01  ...   0.000000e+00   1.353668e-16\n",
            "PAGEGR     0.000000e+00   0.000000e+00  ...   0.000000e+00   0.000000e+00\n",
            "\n",
            "[36 rows x 36 columns]\n"
          ]
        }
      ]
    },
    {
      "cell_type": "code",
      "metadata": {
        "id": "127c0cb5",
        "colab": {
          "base_uri": "https://localhost:8080/",
          "height": 1000
        },
        "outputId": "dc349b33-5413-420a-c404-f5abef458408"
      },
      "source": [
        "# Plotando o heatmap\n",
        "fig = plt.figure(figsize=(25,20))\n",
        "sns.heatmap(resultant, annot=True, cmap='Blues',fmt='.2f')\n",
        "plt.title('Chi-Square Test Results')\n",
        "plt.show()"
      ],
      "id": "127c0cb5",
      "execution_count": null,
      "outputs": [
        {
          "output_type": "display_data",
          "data": {
            "image/png": "[encoded data removed]",
            "text/plain": [
              "<Figure size 1800x1440 with 2 Axes>"
            ]
          },
          "metadata": {}
        }
      ]
    },
    {
      "cell_type": "markdown",
      "metadata": {
        "id": "76d6212d"
      },
      "source": [
        "# 7) Gráficos de Frequência em relação ao X_train"
      ],
      "id": "76d6212d"
    },
    {
      "cell_type": "code",
      "metadata": {
        "id": "d151e2e9",
        "colab": {
          "base_uri": "https://localhost:8080/"
        },
        "outputId": "bddec9a5-194e-4898-a417-3586968a9633"
      },
      "source": [
        "X_train.columns"
      ],
      "id": "d151e2e9",
      "execution_count": null,
      "outputs": [
        {
          "output_type": "execute_result",
          "data": {
            "text/plain": [
              "Index(['MH_05', 'MH_10', 'MH_15B', 'MH_15C', 'MH_15D', 'MH_15E', 'MH_15F',\n",
              "       'MH_15G', 'MH_20', 'BH_60A', 'BH_60B', 'BH_60C', 'BH_55A', 'BH_55B',\n",
              "       'BH_55C', 'BH_55D', 'BH_55E', 'BH_55F', 'BH_55G', 'BH_55H', 'BH_55I',\n",
              "       'BH_55J', 'BH_55K', 'DEM_10', 'MHDVMHI', 'AGEGR_10', 'PBH_55L',\n",
              "       'PCSIZMIZ', 'PIIDFLAG', 'PIMMST', 'PLM_30', 'PLM_40', 'PPROV',\n",
              "       'PRURURB', 'PVISMIN', 'PAGEGR'],\n",
              "      dtype='object')"
            ]
          },
          "metadata": {},
          "execution_count": 16
        }
      ]
    },
    {
      "cell_type": "code",
      "metadata": {
        "id": "267a6de8"
      },
      "source": [
        "feature = ['MH_05', 'MH_10', 'MH_15B', 'MH_15C', 'MH_15D', 'MH_15E', 'MH_15F',\n",
        "       'MH_15G', 'MH_20', 'BH_60A', 'BH_60B', 'BH_60C', 'BH_55A', 'BH_55B',\n",
        "       'BH_55C', 'BH_55D', 'BH_55E', 'BH_55F', 'BH_55G', 'BH_55H', 'BH_55I',\n",
        "       'BH_55J', 'BH_55K', 'DEM_10', 'MHDVMHI', 'AGEGR_10', 'PBH_55L',\n",
        "       'PCSIZMIZ', 'PIIDFLAG', 'PIMMST', 'PLM_30', 'PLM_40', 'PPROV',\n",
        "       'PRURURB', 'PVISMIN', 'PAGEGR']"
      ],
      "id": "267a6de8",
      "execution_count": null,
      "outputs": []
    },
    {
      "cell_type": "code",
      "metadata": {
        "id": "f383f971",
        "colab": {
          "base_uri": "https://localhost:8080/",
          "height": 1000
        },
        "outputId": "8d500073-e721-4991-f53a-d070a2603297"
      },
      "source": [
        "plt.figure(figsize = (15,45))\n",
        "for i in enumerate(feature):\n",
        "    plt.subplot(12,3,i[0]+1)\n",
        "    grafico = sns.barplot(x=i[1],y=i[1],\n",
        "                data=X_train, estimator=lambda x: len(x) / len(X_train) * 100)\n",
        "    grafico.set(ylabel=\"Percent\")"
      ],
      "id": "f383f971",
      "execution_count": null,
      "outputs": [
        {
          "output_type": "display_data",
          "data": {
            "image/png": "[encoded data removed]",
            "text/plain": [
              "<Figure size 1080x3240 with 36 Axes>"
            ]
          },
          "metadata": {}
        }
      ]
    },
    {
      "cell_type": "markdown",
      "metadata": {
        "id": "f25f66cc"
      },
      "source": [
        "# 8) Obtendo dummies (One Hot Encoding)\n",
        "\n",
        "Os valores missing estão sendo tratados, nesse primeiro momento, como uma categoria. As variáveis apresentam o valor missing por meio do número 9 ou 99."
      ],
      "id": "f25f66cc"
    },
    {
      "cell_type": "code",
      "metadata": {
        "id": "2e3bf487"
      },
      "source": [
        "# Criando a lista de variáveis a serem transformadas em dummies\n",
        "to_dummy_list = list(X_train.columns)"
      ],
      "id": "2e3bf487",
      "execution_count": null,
      "outputs": []
    },
    {
      "cell_type": "code",
      "metadata": {
        "id": "7e315bfc"
      },
      "source": [
        "# Transformando as variáveis categóricas em dummys, tanto no teste, quando no treino\n",
        "X_train = pd.get_dummies(X_train, columns = to_dummy_list)\n",
        "X_test = pd.get_dummies(X_test, columns = to_dummy_list)"
      ],
      "id": "7e315bfc",
      "execution_count": null,
      "outputs": []
    },
    {
      "cell_type": "code",
      "metadata": {
        "id": "5ec8bf45",
        "colab": {
          "base_uri": "https://localhost:8080/",
          "height": 255
        },
        "outputId": "c8d36efd-da91-4c64-9cd1-2476a8dba729"
      },
      "source": [
        "X_train.head()"
      ],
      "id": "5ec8bf45",
      "execution_count": null,
      "outputs": [
        {
          "output_type": "execute_result",
          "data": {
            "text/html": [
              "<div>\n",
              "<style scoped>\n",
              "    .dataframe tbody tr th:only-of-type {\n",
              "        vertical-align: middle;\n",
              "    }\n",
              "\n",
              "    .dataframe tbody tr th {\n",
              "        vertical-align: top;\n",
              "    }\n",
              "\n",
              "    .dataframe thead th {\n",
              "        text-align: right;\n",
              "    }\n",
              "</style>\n",
              "<table border=\"1\" class=\"dataframe\">\n",
              "  <thead>\n",
              "    <tr style=\"text-align: right;\">\n",
              "      <th></th>\n",
              "      <th>MH_05_1</th>\n",
              "      <th>MH_05_2</th>\n",
              "      <th>MH_05_3</th>\n",
              "      <th>MH_05_4</th>\n",
              "      <th>MH_05_5</th>\n",
              "      <th>MH_05_9</th>\n",
              "      <th>MH_10_1</th>\n",
              "      <th>MH_10_2</th>\n",
              "      <th>MH_10_3</th>\n",
              "      <th>MH_10_4</th>\n",
              "      <th>MH_10_5</th>\n",
              "      <th>MH_10_9</th>\n",
              "      <th>MH_15B_1</th>\n",
              "      <th>MH_15B_2</th>\n",
              "      <th>MH_15B_3</th>\n",
              "      <th>MH_15B_4</th>\n",
              "      <th>MH_15C_1</th>\n",
              "      <th>MH_15C_2</th>\n",
              "      <th>MH_15C_3</th>\n",
              "      <th>MH_15C_4</th>\n",
              "      <th>MH_15D_1</th>\n",
              "      <th>MH_15D_2</th>\n",
              "      <th>MH_15D_3</th>\n",
              "      <th>MH_15D_4</th>\n",
              "      <th>MH_15E_1</th>\n",
              "      <th>MH_15E_2</th>\n",
              "      <th>MH_15E_3</th>\n",
              "      <th>MH_15E_4</th>\n",
              "      <th>MH_15F_1</th>\n",
              "      <th>MH_15F_2</th>\n",
              "      <th>MH_15F_3</th>\n",
              "      <th>MH_15F_4</th>\n",
              "      <th>MH_15G_1</th>\n",
              "      <th>MH_15G_2</th>\n",
              "      <th>MH_15G_3</th>\n",
              "      <th>MH_15G_4</th>\n",
              "      <th>MH_20_1</th>\n",
              "      <th>MH_20_2</th>\n",
              "      <th>MH_20_3</th>\n",
              "      <th>MH_20_4</th>\n",
              "      <th>...</th>\n",
              "      <th>PLM_30_1</th>\n",
              "      <th>PLM_30_2</th>\n",
              "      <th>PLM_30_3</th>\n",
              "      <th>PLM_30_4</th>\n",
              "      <th>PLM_30_5</th>\n",
              "      <th>PLM_30_6</th>\n",
              "      <th>PLM_30_99</th>\n",
              "      <th>PLM_40_1</th>\n",
              "      <th>PLM_40_2</th>\n",
              "      <th>PLM_40_3</th>\n",
              "      <th>PLM_40_4</th>\n",
              "      <th>PLM_40_5</th>\n",
              "      <th>PLM_40_9</th>\n",
              "      <th>PPROV_10</th>\n",
              "      <th>PPROV_11</th>\n",
              "      <th>PPROV_12</th>\n",
              "      <th>PPROV_13</th>\n",
              "      <th>PPROV_24</th>\n",
              "      <th>PPROV_35</th>\n",
              "      <th>PPROV_46</th>\n",
              "      <th>PPROV_47</th>\n",
              "      <th>PPROV_48</th>\n",
              "      <th>PPROV_59</th>\n",
              "      <th>PPROV_63</th>\n",
              "      <th>PRURURB_1</th>\n",
              "      <th>PRURURB_2</th>\n",
              "      <th>PRURURB_9</th>\n",
              "      <th>PVISMIN_1</th>\n",
              "      <th>PVISMIN_2</th>\n",
              "      <th>PVISMIN_9</th>\n",
              "      <th>PAGEGR_1</th>\n",
              "      <th>PAGEGR_2</th>\n",
              "      <th>PAGEGR_3</th>\n",
              "      <th>PAGEGR_4</th>\n",
              "      <th>PAGEGR_5</th>\n",
              "      <th>PAGEGR_6</th>\n",
              "      <th>PAGEGR_7</th>\n",
              "      <th>PAGEGR_8</th>\n",
              "      <th>PAGEGR_9</th>\n",
              "      <th>PAGEGR_10</th>\n",
              "    </tr>\n",
              "  </thead>\n",
              "  <tbody>\n",
              "    <tr>\n",
              "      <th>21571</th>\n",
              "      <td>0</td>\n",
              "      <td>1</td>\n",
              "      <td>0</td>\n",
              "      <td>0</td>\n",
              "      <td>0</td>\n",
              "      <td>0</td>\n",
              "      <td>0</td>\n",
              "      <td>1</td>\n",
              "      <td>0</td>\n",
              "      <td>0</td>\n",
              "      <td>0</td>\n",
              "      <td>0</td>\n",
              "      <td>1</td>\n",
              "      <td>0</td>\n",
              "      <td>0</td>\n",
              "      <td>0</td>\n",
              "      <td>1</td>\n",
              "      <td>0</td>\n",
              "      <td>0</td>\n",
              "      <td>0</td>\n",
              "      <td>1</td>\n",
              "      <td>0</td>\n",
              "      <td>0</td>\n",
              "      <td>0</td>\n",
              "      <td>1</td>\n",
              "      <td>0</td>\n",
              "      <td>0</td>\n",
              "      <td>0</td>\n",
              "      <td>1</td>\n",
              "      <td>0</td>\n",
              "      <td>0</td>\n",
              "      <td>0</td>\n",
              "      <td>1</td>\n",
              "      <td>0</td>\n",
              "      <td>0</td>\n",
              "      <td>0</td>\n",
              "      <td>0</td>\n",
              "      <td>1</td>\n",
              "      <td>0</td>\n",
              "      <td>0</td>\n",
              "      <td>...</td>\n",
              "      <td>0</td>\n",
              "      <td>0</td>\n",
              "      <td>0</td>\n",
              "      <td>0</td>\n",
              "      <td>1</td>\n",
              "      <td>0</td>\n",
              "      <td>0</td>\n",
              "      <td>0</td>\n",
              "      <td>0</td>\n",
              "      <td>0</td>\n",
              "      <td>1</td>\n",
              "      <td>0</td>\n",
              "      <td>0</td>\n",
              "      <td>0</td>\n",
              "      <td>0</td>\n",
              "      <td>0</td>\n",
              "      <td>0</td>\n",
              "      <td>1</td>\n",
              "      <td>0</td>\n",
              "      <td>0</td>\n",
              "      <td>0</td>\n",
              "      <td>0</td>\n",
              "      <td>0</td>\n",
              "      <td>0</td>\n",
              "      <td>0</td>\n",
              "      <td>1</td>\n",
              "      <td>0</td>\n",
              "      <td>0</td>\n",
              "      <td>1</td>\n",
              "      <td>0</td>\n",
              "      <td>0</td>\n",
              "      <td>0</td>\n",
              "      <td>0</td>\n",
              "      <td>0</td>\n",
              "      <td>0</td>\n",
              "      <td>0</td>\n",
              "      <td>0</td>\n",
              "      <td>1</td>\n",
              "      <td>0</td>\n",
              "      <td>0</td>\n",
              "    </tr>\n",
              "    <tr>\n",
              "      <th>33035</th>\n",
              "      <td>0</td>\n",
              "      <td>0</td>\n",
              "      <td>0</td>\n",
              "      <td>1</td>\n",
              "      <td>0</td>\n",
              "      <td>0</td>\n",
              "      <td>0</td>\n",
              "      <td>0</td>\n",
              "      <td>0</td>\n",
              "      <td>1</td>\n",
              "      <td>0</td>\n",
              "      <td>0</td>\n",
              "      <td>0</td>\n",
              "      <td>0</td>\n",
              "      <td>0</td>\n",
              "      <td>1</td>\n",
              "      <td>0</td>\n",
              "      <td>0</td>\n",
              "      <td>0</td>\n",
              "      <td>1</td>\n",
              "      <td>0</td>\n",
              "      <td>0</td>\n",
              "      <td>0</td>\n",
              "      <td>1</td>\n",
              "      <td>1</td>\n",
              "      <td>0</td>\n",
              "      <td>0</td>\n",
              "      <td>0</td>\n",
              "      <td>0</td>\n",
              "      <td>0</td>\n",
              "      <td>0</td>\n",
              "      <td>1</td>\n",
              "      <td>0</td>\n",
              "      <td>1</td>\n",
              "      <td>0</td>\n",
              "      <td>0</td>\n",
              "      <td>0</td>\n",
              "      <td>0</td>\n",
              "      <td>1</td>\n",
              "      <td>0</td>\n",
              "      <td>...</td>\n",
              "      <td>0</td>\n",
              "      <td>0</td>\n",
              "      <td>0</td>\n",
              "      <td>0</td>\n",
              "      <td>0</td>\n",
              "      <td>1</td>\n",
              "      <td>0</td>\n",
              "      <td>0</td>\n",
              "      <td>1</td>\n",
              "      <td>0</td>\n",
              "      <td>0</td>\n",
              "      <td>0</td>\n",
              "      <td>0</td>\n",
              "      <td>0</td>\n",
              "      <td>0</td>\n",
              "      <td>0</td>\n",
              "      <td>0</td>\n",
              "      <td>0</td>\n",
              "      <td>1</td>\n",
              "      <td>0</td>\n",
              "      <td>0</td>\n",
              "      <td>0</td>\n",
              "      <td>0</td>\n",
              "      <td>0</td>\n",
              "      <td>0</td>\n",
              "      <td>1</td>\n",
              "      <td>0</td>\n",
              "      <td>0</td>\n",
              "      <td>1</td>\n",
              "      <td>0</td>\n",
              "      <td>0</td>\n",
              "      <td>1</td>\n",
              "      <td>0</td>\n",
              "      <td>0</td>\n",
              "      <td>0</td>\n",
              "      <td>0</td>\n",
              "      <td>0</td>\n",
              "      <td>0</td>\n",
              "      <td>0</td>\n",
              "      <td>0</td>\n",
              "    </tr>\n",
              "    <tr>\n",
              "      <th>14363</th>\n",
              "      <td>0</td>\n",
              "      <td>0</td>\n",
              "      <td>0</td>\n",
              "      <td>1</td>\n",
              "      <td>0</td>\n",
              "      <td>0</td>\n",
              "      <td>0</td>\n",
              "      <td>0</td>\n",
              "      <td>0</td>\n",
              "      <td>1</td>\n",
              "      <td>0</td>\n",
              "      <td>0</td>\n",
              "      <td>0</td>\n",
              "      <td>0</td>\n",
              "      <td>1</td>\n",
              "      <td>0</td>\n",
              "      <td>0</td>\n",
              "      <td>0</td>\n",
              "      <td>1</td>\n",
              "      <td>0</td>\n",
              "      <td>0</td>\n",
              "      <td>0</td>\n",
              "      <td>1</td>\n",
              "      <td>0</td>\n",
              "      <td>0</td>\n",
              "      <td>0</td>\n",
              "      <td>1</td>\n",
              "      <td>0</td>\n",
              "      <td>0</td>\n",
              "      <td>0</td>\n",
              "      <td>1</td>\n",
              "      <td>0</td>\n",
              "      <td>0</td>\n",
              "      <td>0</td>\n",
              "      <td>1</td>\n",
              "      <td>0</td>\n",
              "      <td>0</td>\n",
              "      <td>0</td>\n",
              "      <td>0</td>\n",
              "      <td>1</td>\n",
              "      <td>...</td>\n",
              "      <td>0</td>\n",
              "      <td>0</td>\n",
              "      <td>1</td>\n",
              "      <td>0</td>\n",
              "      <td>0</td>\n",
              "      <td>0</td>\n",
              "      <td>0</td>\n",
              "      <td>0</td>\n",
              "      <td>0</td>\n",
              "      <td>0</td>\n",
              "      <td>1</td>\n",
              "      <td>0</td>\n",
              "      <td>0</td>\n",
              "      <td>0</td>\n",
              "      <td>0</td>\n",
              "      <td>0</td>\n",
              "      <td>0</td>\n",
              "      <td>0</td>\n",
              "      <td>1</td>\n",
              "      <td>0</td>\n",
              "      <td>0</td>\n",
              "      <td>0</td>\n",
              "      <td>0</td>\n",
              "      <td>0</td>\n",
              "      <td>0</td>\n",
              "      <td>1</td>\n",
              "      <td>0</td>\n",
              "      <td>0</td>\n",
              "      <td>1</td>\n",
              "      <td>0</td>\n",
              "      <td>0</td>\n",
              "      <td>0</td>\n",
              "      <td>0</td>\n",
              "      <td>0</td>\n",
              "      <td>1</td>\n",
              "      <td>0</td>\n",
              "      <td>0</td>\n",
              "      <td>0</td>\n",
              "      <td>0</td>\n",
              "      <td>0</td>\n",
              "    </tr>\n",
              "    <tr>\n",
              "      <th>4397</th>\n",
              "      <td>0</td>\n",
              "      <td>0</td>\n",
              "      <td>0</td>\n",
              "      <td>1</td>\n",
              "      <td>0</td>\n",
              "      <td>0</td>\n",
              "      <td>0</td>\n",
              "      <td>0</td>\n",
              "      <td>0</td>\n",
              "      <td>1</td>\n",
              "      <td>0</td>\n",
              "      <td>0</td>\n",
              "      <td>0</td>\n",
              "      <td>1</td>\n",
              "      <td>0</td>\n",
              "      <td>0</td>\n",
              "      <td>0</td>\n",
              "      <td>1</td>\n",
              "      <td>0</td>\n",
              "      <td>0</td>\n",
              "      <td>0</td>\n",
              "      <td>1</td>\n",
              "      <td>0</td>\n",
              "      <td>0</td>\n",
              "      <td>0</td>\n",
              "      <td>1</td>\n",
              "      <td>0</td>\n",
              "      <td>0</td>\n",
              "      <td>0</td>\n",
              "      <td>1</td>\n",
              "      <td>0</td>\n",
              "      <td>0</td>\n",
              "      <td>0</td>\n",
              "      <td>1</td>\n",
              "      <td>0</td>\n",
              "      <td>0</td>\n",
              "      <td>0</td>\n",
              "      <td>0</td>\n",
              "      <td>1</td>\n",
              "      <td>0</td>\n",
              "      <td>...</td>\n",
              "      <td>0</td>\n",
              "      <td>0</td>\n",
              "      <td>0</td>\n",
              "      <td>0</td>\n",
              "      <td>0</td>\n",
              "      <td>1</td>\n",
              "      <td>0</td>\n",
              "      <td>0</td>\n",
              "      <td>0</td>\n",
              "      <td>1</td>\n",
              "      <td>0</td>\n",
              "      <td>0</td>\n",
              "      <td>0</td>\n",
              "      <td>0</td>\n",
              "      <td>0</td>\n",
              "      <td>0</td>\n",
              "      <td>0</td>\n",
              "      <td>0</td>\n",
              "      <td>1</td>\n",
              "      <td>0</td>\n",
              "      <td>0</td>\n",
              "      <td>0</td>\n",
              "      <td>0</td>\n",
              "      <td>0</td>\n",
              "      <td>0</td>\n",
              "      <td>1</td>\n",
              "      <td>0</td>\n",
              "      <td>0</td>\n",
              "      <td>1</td>\n",
              "      <td>0</td>\n",
              "      <td>0</td>\n",
              "      <td>0</td>\n",
              "      <td>0</td>\n",
              "      <td>0</td>\n",
              "      <td>0</td>\n",
              "      <td>0</td>\n",
              "      <td>0</td>\n",
              "      <td>0</td>\n",
              "      <td>1</td>\n",
              "      <td>0</td>\n",
              "    </tr>\n",
              "    <tr>\n",
              "      <th>5063</th>\n",
              "      <td>0</td>\n",
              "      <td>1</td>\n",
              "      <td>0</td>\n",
              "      <td>0</td>\n",
              "      <td>0</td>\n",
              "      <td>0</td>\n",
              "      <td>0</td>\n",
              "      <td>0</td>\n",
              "      <td>0</td>\n",
              "      <td>1</td>\n",
              "      <td>0</td>\n",
              "      <td>0</td>\n",
              "      <td>1</td>\n",
              "      <td>0</td>\n",
              "      <td>0</td>\n",
              "      <td>0</td>\n",
              "      <td>1</td>\n",
              "      <td>0</td>\n",
              "      <td>0</td>\n",
              "      <td>0</td>\n",
              "      <td>1</td>\n",
              "      <td>0</td>\n",
              "      <td>0</td>\n",
              "      <td>0</td>\n",
              "      <td>1</td>\n",
              "      <td>0</td>\n",
              "      <td>0</td>\n",
              "      <td>0</td>\n",
              "      <td>1</td>\n",
              "      <td>0</td>\n",
              "      <td>0</td>\n",
              "      <td>0</td>\n",
              "      <td>1</td>\n",
              "      <td>0</td>\n",
              "      <td>0</td>\n",
              "      <td>0</td>\n",
              "      <td>0</td>\n",
              "      <td>0</td>\n",
              "      <td>1</td>\n",
              "      <td>0</td>\n",
              "      <td>...</td>\n",
              "      <td>0</td>\n",
              "      <td>0</td>\n",
              "      <td>0</td>\n",
              "      <td>1</td>\n",
              "      <td>0</td>\n",
              "      <td>0</td>\n",
              "      <td>0</td>\n",
              "      <td>0</td>\n",
              "      <td>0</td>\n",
              "      <td>0</td>\n",
              "      <td>1</td>\n",
              "      <td>0</td>\n",
              "      <td>0</td>\n",
              "      <td>0</td>\n",
              "      <td>0</td>\n",
              "      <td>0</td>\n",
              "      <td>0</td>\n",
              "      <td>0</td>\n",
              "      <td>1</td>\n",
              "      <td>0</td>\n",
              "      <td>0</td>\n",
              "      <td>0</td>\n",
              "      <td>0</td>\n",
              "      <td>0</td>\n",
              "      <td>0</td>\n",
              "      <td>1</td>\n",
              "      <td>0</td>\n",
              "      <td>1</td>\n",
              "      <td>0</td>\n",
              "      <td>0</td>\n",
              "      <td>0</td>\n",
              "      <td>1</td>\n",
              "      <td>0</td>\n",
              "      <td>0</td>\n",
              "      <td>0</td>\n",
              "      <td>0</td>\n",
              "      <td>0</td>\n",
              "      <td>0</td>\n",
              "      <td>0</td>\n",
              "      <td>0</td>\n",
              "    </tr>\n",
              "  </tbody>\n",
              "</table>\n",
              "<p>5 rows × 183 columns</p>\n",
              "</div>"
            ],
            "text/plain": [
              "       MH_05_1  MH_05_2  MH_05_3  ...  PAGEGR_8  PAGEGR_9  PAGEGR_10\n",
              "21571        0        1        0  ...         1         0          0\n",
              "33035        0        0        0  ...         0         0          0\n",
              "14363        0        0        0  ...         0         0          0\n",
              "4397         0        0        0  ...         0         1          0\n",
              "5063         0        1        0  ...         0         0          0\n",
              "\n",
              "[5 rows x 183 columns]"
            ]
          },
          "metadata": {},
          "execution_count": 20
        }
      ]
    },
    {
      "cell_type": "code",
      "metadata": {
        "id": "4796e801"
      },
      "source": [
        "# convertendo o desfecho para valor inteiro (em alguma das etapas anteriores, a variável foi transformada em float)\n",
        "y_test = y_test.astype('int64')\n",
        "y_train = y_train.astype('int64')"
      ],
      "id": "4796e801",
      "execution_count": null,
      "outputs": []
    },
    {
      "cell_type": "code",
      "metadata": {
        "id": "95cb363c",
        "colab": {
          "base_uri": "https://localhost:8080/"
        },
        "outputId": "7bda691d-05f0-4573-9076-56d5457565ae"
      },
      "source": [
        "y_train.dtypes"
      ],
      "id": "95cb363c",
      "execution_count": null,
      "outputs": [
        {
          "output_type": "execute_result",
          "data": {
            "text/plain": [
              "dtype('int64')"
            ]
          },
          "metadata": {},
          "execution_count": 22
        }
      ]
    },
    {
      "cell_type": "markdown",
      "metadata": {
        "id": "3b3641ad"
      },
      "source": [
        "# 9) Treinando o primeiro algoritmo (xgboost)\n",
        "\n",
        "O algoritmo treinado foi o xgboost, como forma de se obter o primeiro contato com o conjunto de dados. Ainda não foi realizada seleção de hiperâmetros, tampouco iterações. \n",
        "\n",
        "O default utilizado foi:\n",
        "\n",
        "`params = {\n",
        "    'eta': 0.3, \n",
        "    'max_depth': 3,  \n",
        "    'objective': 'multi:softprob',  \n",
        "    'num_class': 3,\n",
        "    'eval_metric': \"mlogloss\"}\n",
        "steps = 20'`\n",
        "\n",
        "\n",
        "Foram realizados os seguintes passos: \n",
        "\n",
        "* Importar o algoritmo e as métricas de avaliação\n",
        "* Definição dos hiperparâmetros\n",
        "* Criação e treinamento do modelo\n",
        "* Teste do Modelo"
      ],
      "id": "3b3641ad"
    },
    {
      "cell_type": "code",
      "metadata": {
        "id": "6ccca2bd"
      },
      "source": [
        "import numpy as np\n",
        "from sklearn.metrics import precision_score, recall_score, accuracy_score, roc_auc_score\n",
        "import xgboost as xgb"
      ],
      "id": "6ccca2bd",
      "execution_count": null,
      "outputs": []
    },
    {
      "cell_type": "code",
      "metadata": {
        "id": "ea468a5d"
      },
      "source": [
        "# definição dos hiperparâmetros iniciais\n",
        "\n",
        "params = {\n",
        "    'eta': 0.3, \n",
        "    'max_depth': 3,  \n",
        "    'objective': 'multi:softprob',  \n",
        "    'num_class': 3,\n",
        "    'eval_metric': \"mlogloss\"}\n",
        "steps = 20"
      ],
      "id": "ea468a5d",
      "execution_count": null,
      "outputs": []
    },
    {
      "cell_type": "code",
      "metadata": {
        "id": "29bb84b6"
      },
      "source": [
        "# Criação dos conjuntos de treino e teste no formato do xgboost\n",
        "D_train = xgb.DMatrix(X_train, label=y_train)\n",
        "D_test = xgb.DMatrix(X_test, label=y_test)\n",
        "model = xgb.train(params, D_train, steps)"
      ],
      "id": "29bb84b6",
      "execution_count": null,
      "outputs": []
    },
    {
      "cell_type": "code",
      "metadata": {
        "id": "15a7f786"
      },
      "source": [
        "preds = model.predict(D_test)\n",
        "best_preds = np.asarray([np.argmax(line) for line in preds])"
      ],
      "id": "15a7f786",
      "execution_count": null,
      "outputs": []
    },
    {
      "cell_type": "markdown",
      "metadata": {
        "id": "7995b12c"
      },
      "source": [
        "# 10) Obtenção das métricas com base no conjunto de teste\n",
        "\n",
        "Nesta primeira etapa, foram obtidas as seguintes métricas: precision, recall, accuracy e AUC(ROC)"
      ],
      "id": "7995b12c"
    },
    {
      "cell_type": "code",
      "metadata": {
        "id": "dfa90049",
        "colab": {
          "base_uri": "https://localhost:8080/"
        },
        "outputId": "bc04fe99-5247-404c-d60f-13b986ceb113"
      },
      "source": [
        "print(\"Precision = {}\".format(precision_score(y_test, best_preds, average='macro')))\n",
        "print(\"Recall = {}\".format(recall_score(y_test, best_preds, average='macro')))\n",
        "print(\"Accuracy = {}\".format(accuracy_score(y_test, best_preds)))\n",
        "print(\"AUC (ROC) = {}\".format(roc_auc_score(y_test, best_preds)))"
      ],
      "id": "dfa90049",
      "execution_count": null,
      "outputs": [
        {
          "output_type": "stream",
          "name": "stdout",
          "text": [
            "Precision = 0.9723668265589498\n",
            "Recall = 0.963371549274896\n",
            "Accuracy = 0.9736610094776283\n",
            "AUC (ROC) = 0.963371549274896\n"
          ]
        }
      ]
    },
    {
      "cell_type": "markdown",
      "metadata": {
        "id": "aec34a8f"
      },
      "source": [
        "# 11) Testando múltiplos algoritmos\n",
        "\n",
        "Foi utilizado o lazypredict para comparar múltiplos algoritmos. Como o conjuno de dados é relativamente grande, deixei o código em comentário, anexando a imagem do resultado na linha seguinte. "
      ],
      "id": "aec34a8f"
    },
    {
      "cell_type": "code",
      "metadata": {
        "id": "0401125b"
      },
      "source": [
        "# import pyforest\n",
        "# import warnings\n",
        "# warnings.filterwarnings(\"ignore\")\n",
        "# from sklearn import metrics\n",
        "# from sklearn.metrics import accuracy_score\n",
        "# import lazypredict\n",
        "# from lazypredict.Supervised import LazyClassifier;"
      ],
      "id": "0401125b",
      "execution_count": null,
      "outputs": []
    },
    {
      "cell_type": "code",
      "metadata": {
        "id": "72368343"
      },
      "source": [
        "# Não roda no colab pelo limite de tempo. \n",
        "# Anexei a imagem do resultado gerado no jupyter\n",
        "\n",
        "# clf = LazyClassifier(verbose=0,ignore_warnings=True)\n",
        "# models, predictions = clf.fit(X_train, X_test, y_train, y_test)\n",
        "# models"
      ],
      "id": "72368343",
      "execution_count": null,
      "outputs": []
    },
    {
      "cell_type": "markdown",
      "metadata": {
        "id": "1COKVmJ2x9jG"
      },
      "source": [
        "![alt text](https://drive.google.com/uc?id=1-9cWY5ARuWtpryd-PvtkRmr-Sh03PE07)"
      ],
      "id": "1COKVmJ2x9jG"
    },
    {
      "cell_type": "markdown",
      "metadata": {
        "id": "03153e94"
      },
      "source": [
        "# 12) Construção dos modelos\n",
        "\n",
        "Obs: foram selecionados os seguintes modelos:\n",
        "* Regresão Logística: melhor AUC e baixo tempo de construção\n",
        "* LGBM: desempenho próximo ao CalibratedClassifierCV e ao LinearSVC, porém com um tempo de rodagem bastante inferior\n",
        "* Adaboost: testar segundo melhor algoritmo de boost\n",
        " "
      ],
      "id": "03153e94"
    },
    {
      "cell_type": "markdown",
      "metadata": {
        "id": "6d9cead6"
      },
      "source": [
        "## Logistic Regression"
      ],
      "id": "6d9cead6"
    },
    {
      "cell_type": "code",
      "metadata": {
        "id": "a0e33189",
        "colab": {
          "base_uri": "https://localhost:8080/"
        },
        "outputId": "b847c9da-ab97-4ec6-cc0b-ef7942e306de"
      },
      "source": [
        "from sklearn.linear_model import LogisticRegression\n",
        "model = LogisticRegression()\n",
        "model.fit(X_train, y_train)"
      ],
      "id": "a0e33189",
      "execution_count": null,
      "outputs": [
        {
          "output_type": "execute_result",
          "data": {
            "text/plain": [
              "LogisticRegression()"
            ]
          },
          "metadata": {},
          "execution_count": 32
        }
      ]
    },
    {
      "cell_type": "code",
      "metadata": {
        "id": "2d3a0e42",
        "colab": {
          "base_uri": "https://localhost:8080/",
          "height": 206
        },
        "outputId": "bf5e509e-1d0a-4713-e9d2-24c0f322d890"
      },
      "source": [
        "y_pred_log = pd.Series(model.predict(X_test))\n",
        "y_test = y_test.reset_index(drop=True)\n",
        "z = pd.concat([y_test, y_pred_log], axis=1)\n",
        "z.columns = ['True', 'Prediction']\n",
        "z.head()"
      ],
      "id": "2d3a0e42",
      "execution_count": null,
      "outputs": [
        {
          "output_type": "execute_result",
          "data": {
            "text/html": [
              "<div>\n",
              "<style scoped>\n",
              "    .dataframe tbody tr th:only-of-type {\n",
              "        vertical-align: middle;\n",
              "    }\n",
              "\n",
              "    .dataframe tbody tr th {\n",
              "        vertical-align: top;\n",
              "    }\n",
              "\n",
              "    .dataframe thead th {\n",
              "        text-align: right;\n",
              "    }\n",
              "</style>\n",
              "<table border=\"1\" class=\"dataframe\">\n",
              "  <thead>\n",
              "    <tr style=\"text-align: right;\">\n",
              "      <th></th>\n",
              "      <th>True</th>\n",
              "      <th>Prediction</th>\n",
              "    </tr>\n",
              "  </thead>\n",
              "  <tbody>\n",
              "    <tr>\n",
              "      <th>0</th>\n",
              "      <td>0</td>\n",
              "      <td>0</td>\n",
              "    </tr>\n",
              "    <tr>\n",
              "      <th>1</th>\n",
              "      <td>1</td>\n",
              "      <td>1</td>\n",
              "    </tr>\n",
              "    <tr>\n",
              "      <th>2</th>\n",
              "      <td>0</td>\n",
              "      <td>0</td>\n",
              "    </tr>\n",
              "    <tr>\n",
              "      <th>3</th>\n",
              "      <td>0</td>\n",
              "      <td>0</td>\n",
              "    </tr>\n",
              "    <tr>\n",
              "      <th>4</th>\n",
              "      <td>0</td>\n",
              "      <td>0</td>\n",
              "    </tr>\n",
              "  </tbody>\n",
              "</table>\n",
              "</div>"
            ],
            "text/plain": [
              "   True  Prediction\n",
              "0     0           0\n",
              "1     1           1\n",
              "2     0           0\n",
              "3     0           0\n",
              "4     0           0"
            ]
          },
          "metadata": {},
          "execution_count": 33
        }
      ]
    },
    {
      "cell_type": "code",
      "metadata": {
        "id": "09e77a92",
        "colab": {
          "base_uri": "https://localhost:8080/"
        },
        "outputId": "089e80dd-ea58-4f76-ffb1-9d3ebdb7ea64"
      },
      "source": [
        "print(\"Accuracy: {:.4f}\".format(metrics.accuracy_score(y_test, y_pred_log)))\n",
        "print(\"Precision: {:.4f}\".format(metrics.precision_score(y_test, y_pred_log)))\n",
        "print(\"Recall: {:.4f}\".format(metrics.recall_score(y_test, y_pred_log)))\n",
        "print(\"AUC: {:.4f}\".format(metrics.roc_auc_score(y_test, y_pred_log)))"
      ],
      "id": "09e77a92",
      "execution_count": null,
      "outputs": [
        {
          "output_type": "stream",
          "name": "stdout",
          "text": [
            "Accuracy: 0.9764\n",
            "Precision: 0.9625\n",
            "Recall: 0.9559\n",
            "AUC: 0.9704\n"
          ]
        }
      ]
    },
    {
      "cell_type": "markdown",
      "metadata": {
        "id": "3b128788"
      },
      "source": [
        "## Light GBM"
      ],
      "id": "3b128788"
    },
    {
      "cell_type": "code",
      "metadata": {
        "id": "cb7d9e38",
        "colab": {
          "base_uri": "https://localhost:8080/"
        },
        "outputId": "d23d143a-17c2-4eaa-a5e7-6ef9c9d94600"
      },
      "source": [
        "import lightgbm as lgb\n",
        "model_lgbm = lgb.LGBMClassifier(learning_rate=0.09,max_depth=-5,random_state=42)\n",
        "model_lgbm.fit(X_train,y_train,eval_set=[(X_test,y_test),(X_train,y_train)],\n",
        "          verbose=0,eval_metric='logloss')\n"
      ],
      "id": "cb7d9e38",
      "execution_count": null,
      "outputs": [
        {
          "output_type": "execute_result",
          "data": {
            "text/plain": [
              "LGBMClassifier(learning_rate=0.09, max_depth=-5, random_state=42)"
            ]
          },
          "metadata": {},
          "execution_count": 35
        }
      ]
    },
    {
      "cell_type": "code",
      "metadata": {
        "id": "9b0ad755"
      },
      "source": [
        "y_pred_lgbm = pd.Series(model_lgbm.predict(X_test))"
      ],
      "id": "9b0ad755",
      "execution_count": null,
      "outputs": []
    },
    {
      "cell_type": "code",
      "metadata": {
        "id": "0f661acf",
        "colab": {
          "base_uri": "https://localhost:8080/"
        },
        "outputId": "55889fe4-6bdd-454d-ca54-c0fa0e6d09fc"
      },
      "source": [
        "print(\"Accuracy: {:.4f}\".format(metrics.accuracy_score(y_test, y_pred_lgbm)))\n",
        "print(\"Precision: {:.4f}\".format(metrics.precision_score(y_test, y_pred_lgbm)))\n",
        "print(\"Recall: {:.4f}\".format(metrics.recall_score(y_test, y_pred_lgbm)))\n",
        "print(\"AUC: {:.4f}\".format(metrics.roc_auc_score(y_test, y_pred_lgbm)))"
      ],
      "id": "0f661acf",
      "execution_count": null,
      "outputs": [
        {
          "output_type": "stream",
          "name": "stdout",
          "text": [
            "Accuracy: 0.9747\n",
            "Precision: 0.9581\n",
            "Recall: 0.9544\n",
            "AUC: 0.9687\n"
          ]
        }
      ]
    },
    {
      "cell_type": "markdown",
      "metadata": {
        "id": "b9e3a9d7"
      },
      "source": [
        "## Adaboost"
      ],
      "id": "b9e3a9d7"
    },
    {
      "cell_type": "code",
      "metadata": {
        "id": "cfa8b76a"
      },
      "source": [
        "from sklearn.ensemble import AdaBoostClassifier\n",
        "from sklearn.svm import SVC\n",
        "\n",
        "svc=SVC(probability=True, kernel='linear')"
      ],
      "id": "cfa8b76a",
      "execution_count": null,
      "outputs": []
    },
    {
      "cell_type": "code",
      "metadata": {
        "id": "ad341636"
      },
      "source": [
        "model_ada = AdaBoostClassifier(n_estimators = 50, algorithm='SAMME', learning_rate = 1)\n",
        "model_ada.fit(X_train, y_train)\n",
        "y_pred_ada = model_ada.predict(X_test)"
      ],
      "id": "ad341636",
      "execution_count": null,
      "outputs": []
    },
    {
      "cell_type": "code",
      "metadata": {
        "id": "05d0fca4",
        "colab": {
          "base_uri": "https://localhost:8080/"
        },
        "outputId": "236ac509-64eb-4fec-d86e-d87ad480c27f"
      },
      "source": [
        "print(\"Accuracy: {:.4f}\".format(metrics.accuracy_score(y_test, y_pred_ada)))\n",
        "print(\"Precision: {:.4f}\".format(metrics.precision_score(y_test, y_pred_ada)))\n",
        "print(\"Recall: {:.4f}\".format(metrics.recall_score(y_test, y_pred_ada)))\n",
        "print(\"AUC: {:.4f}\".format(metrics.roc_auc_score(y_test, y_pred_ada)))"
      ],
      "id": "05d0fca4",
      "execution_count": null,
      "outputs": [
        {
          "output_type": "stream",
          "name": "stdout",
          "text": [
            "Accuracy: 0.9734\n",
            "Precision: 0.9676\n",
            "Recall: 0.9400\n",
            "AUC: 0.9636\n"
          ]
        }
      ]
    },
    {
      "cell_type": "markdown",
      "metadata": {
        "id": "34672527"
      },
      "source": [
        "# 13) Feature Selection com Boruta"
      ],
      "id": "34672527"
    },
    {
      "cell_type": "code",
      "metadata": {
        "id": "6bd93bad",
        "colab": {
          "base_uri": "https://localhost:8080/"
        },
        "outputId": "fd53b692-db81-4c67-e811-8d518120a5ca"
      },
      "source": [
        "from boruta import BorutaPy\n",
        "from sklearn.ensemble import RandomForestRegressor\n",
        "import numpy as np\n",
        "\n",
        "# criando estimator para o Boruta\n",
        "forest = RandomForestRegressor(\n",
        "   n_jobs = -1, \n",
        "   max_depth = 5\n",
        ")\n",
        "boruta = BorutaPy(\n",
        "   estimator = forest, \n",
        "   n_estimators = 'auto',\n",
        "   max_iter = 100 # number of trials to perform\n",
        ")\n",
        "\n",
        "# parametrizando para o conjunto de treino\n",
        "boruta.fit(np.array(X_train), np.array(y_train))\n",
        "\n",
        "# resultados\n",
        "green_area = X_train.columns[boruta.support_].to_list()\n",
        "blue_area = X_train.columns[boruta.support_weak_].to_list()\n",
        "print('features in the green area:', green_area)\n",
        "print('features in the blue area:', blue_area)"
      ],
      "id": "6bd93bad",
      "execution_count": null,
      "outputs": [
        {
          "output_type": "stream",
          "name": "stdout",
          "text": [
            "features in the green area: ['MH_15B_1', 'MH_15B_2', 'MH_15B_3', 'MH_15B_4', 'MH_15C_1', 'MH_15C_2', 'MH_15C_3', 'MH_15C_4', 'MH_15D_1', 'MH_15D_2', 'MH_15D_3', 'MH_15D_4', 'MH_15E_1', 'MH_15E_2', 'MH_15E_3', 'MH_15E_4', 'MH_15F_1', 'MH_15F_2', 'MH_15F_3', 'MH_15F_4', 'MH_15G_1', 'MH_15G_2', 'MH_15G_3', 'MH_15G_4']\n",
            "features in the blue area: []\n"
          ]
        }
      ]
    },
    {
      "cell_type": "markdown",
      "metadata": {
        "id": "745dc4bc"
      },
      "source": [
        "# 14) Modelo de Regressão Logística com Boruta"
      ],
      "id": "745dc4bc"
    },
    {
      "cell_type": "code",
      "metadata": {
        "id": "a0955da1",
        "colab": {
          "base_uri": "https://localhost:8080/"
        },
        "outputId": "c4c164e0-35b1-4a54-b09e-cf96224b2ef0"
      },
      "source": [
        "# Modelo com Boruta\n",
        "X_train_boruta = X_train[['MH_15B_1', 'MH_15B_2', 'MH_15B_3', 'MH_15B_4', 'MH_15C_1', \n",
        "         'MH_15C_2', 'MH_15C_3', 'MH_15C_4', 'MH_15D_1', 'MH_15D_2', \n",
        "         'MH_15D_3', 'MH_15D_4', 'MH_15E_1', 'MH_15E_2', 'MH_15E_3', \n",
        "         'MH_15E_4', 'MH_15F_1', 'MH_15F_2', 'MH_15F_3', 'MH_15F_4', \n",
        "         'MH_15G_1', 'MH_15G_2', 'MH_15G_3', 'MH_15G_4']]\n",
        "X_test_boruta = X_test[['MH_15B_1', 'MH_15B_2', 'MH_15B_3', 'MH_15B_4', 'MH_15C_1', \n",
        "         'MH_15C_2', 'MH_15C_3', 'MH_15C_4', 'MH_15D_1', 'MH_15D_2', \n",
        "         'MH_15D_3', 'MH_15D_4', 'MH_15E_1', 'MH_15E_2', 'MH_15E_3', \n",
        "         'MH_15E_4', 'MH_15F_1', 'MH_15F_2', 'MH_15F_3', 'MH_15F_4', \n",
        "         'MH_15G_1', 'MH_15G_2', 'MH_15G_3', 'MH_15G_4']]\n",
        "\n",
        "print(X_train_boruta.shape, X_test_boruta.shape)"
      ],
      "id": "a0955da1",
      "execution_count": null,
      "outputs": [
        {
          "output_type": "stream",
          "name": "stdout",
          "text": [
            "(36292, 24) (9074, 24)\n"
          ]
        }
      ]
    },
    {
      "cell_type": "code",
      "metadata": {
        "id": "eb2ed790",
        "colab": {
          "base_uri": "https://localhost:8080/"
        },
        "outputId": "540285e7-d3d9-4a29-d4de-d07221440ce5"
      },
      "source": [
        "model_logistic_boruta = LogisticRegression()\n",
        "model_logistic_boruta.fit(X_train_boruta, y_train)"
      ],
      "id": "eb2ed790",
      "execution_count": null,
      "outputs": [
        {
          "output_type": "execute_result",
          "data": {
            "text/plain": [
              "LogisticRegression()"
            ]
          },
          "metadata": {},
          "execution_count": 42
        }
      ]
    },
    {
      "cell_type": "code",
      "metadata": {
        "id": "fb0c5909",
        "colab": {
          "base_uri": "https://localhost:8080/",
          "height": 206
        },
        "outputId": "6eda5870-e8ba-423b-97d0-28b9d201aa29"
      },
      "source": [
        "y_pred_log_boruta = pd.Series(model_logistic_boruta.predict(X_test_boruta))\n",
        "y_test = y_test.reset_index(drop=True)\n",
        "z = pd.concat([y_test, y_pred_log_boruta], axis=1)\n",
        "z.columns = ['True', 'Prediction']\n",
        "z.head()"
      ],
      "id": "fb0c5909",
      "execution_count": null,
      "outputs": [
        {
          "output_type": "execute_result",
          "data": {
            "text/html": [
              "<div>\n",
              "<style scoped>\n",
              "    .dataframe tbody tr th:only-of-type {\n",
              "        vertical-align: middle;\n",
              "    }\n",
              "\n",
              "    .dataframe tbody tr th {\n",
              "        vertical-align: top;\n",
              "    }\n",
              "\n",
              "    .dataframe thead th {\n",
              "        text-align: right;\n",
              "    }\n",
              "</style>\n",
              "<table border=\"1\" class=\"dataframe\">\n",
              "  <thead>\n",
              "    <tr style=\"text-align: right;\">\n",
              "      <th></th>\n",
              "      <th>True</th>\n",
              "      <th>Prediction</th>\n",
              "    </tr>\n",
              "  </thead>\n",
              "  <tbody>\n",
              "    <tr>\n",
              "      <th>0</th>\n",
              "      <td>0</td>\n",
              "      <td>0</td>\n",
              "    </tr>\n",
              "    <tr>\n",
              "      <th>1</th>\n",
              "      <td>1</td>\n",
              "      <td>1</td>\n",
              "    </tr>\n",
              "    <tr>\n",
              "      <th>2</th>\n",
              "      <td>0</td>\n",
              "      <td>0</td>\n",
              "    </tr>\n",
              "    <tr>\n",
              "      <th>3</th>\n",
              "      <td>0</td>\n",
              "      <td>0</td>\n",
              "    </tr>\n",
              "    <tr>\n",
              "      <th>4</th>\n",
              "      <td>0</td>\n",
              "      <td>0</td>\n",
              "    </tr>\n",
              "  </tbody>\n",
              "</table>\n",
              "</div>"
            ],
            "text/plain": [
              "   True  Prediction\n",
              "0     0           0\n",
              "1     1           1\n",
              "2     0           0\n",
              "3     0           0\n",
              "4     0           0"
            ]
          },
          "metadata": {},
          "execution_count": 43
        }
      ]
    },
    {
      "cell_type": "code",
      "metadata": {
        "id": "98a320ee",
        "colab": {
          "base_uri": "https://localhost:8080/"
        },
        "outputId": "5c7f6be7-7d63-483e-e411-24a5f790003e"
      },
      "source": [
        "print(\"Accuracy: {:.4f}\".format(metrics.accuracy_score(y_test, y_pred_log_boruta)))\n",
        "print(\"Precision: {:.4f}\".format(metrics.precision_score(y_test, y_pred_log_boruta)))\n",
        "print(\"Recall: {:.4f}\".format(metrics.recall_score(y_test, y_pred_log_boruta)))\n",
        "print(\"AUC: {:.4f}\".format(metrics.roc_auc_score(y_test, y_pred_log_boruta)))\n"
      ],
      "id": "98a320ee",
      "execution_count": null,
      "outputs": [
        {
          "output_type": "stream",
          "name": "stdout",
          "text": [
            "Accuracy: 0.9759\n",
            "Precision: 0.9632\n",
            "Recall: 0.9533\n",
            "AUC: 0.9692\n"
          ]
        }
      ]
    },
    {
      "cell_type": "code",
      "metadata": {
        "id": "9f570f85",
        "outputId": "3b92d5be-f9d0-4457-83f5-a8792d081a2a"
      },
      "source": [
        "# Como a AUC caiu, optei por realizar novamente o comparativo entre os algoritmos, \n",
        "# utilizando as variáveis selecionadas pelo BORUTA\n",
        "\n",
        "#clf = LazyClassifier(verbose=0,ignore_warnings=True)\n",
        "#models, predictions = clf.fit(X_train_boruta, X_test_boruta, y_train, y_test)\n",
        "#models"
      ],
      "id": "9f570f85",
      "execution_count": null,
      "outputs": [
        {
          "name": "stderr",
          "output_type": "stream",
          "text": [
            "100%|██████████| 29/29 [04:05<00:00,  8.47s/it]\n"
          ]
        },
        {
          "data": {
            "text/html": [
              "<div>\n",
              "<style scoped>\n",
              "    .dataframe tbody tr th:only-of-type {\n",
              "        vertical-align: middle;\n",
              "    }\n",
              "\n",
              "    .dataframe tbody tr th {\n",
              "        vertical-align: top;\n",
              "    }\n",
              "\n",
              "    .dataframe thead th {\n",
              "        text-align: right;\n",
              "    }\n",
              "</style>\n",
              "<table border=\"1\" class=\"dataframe\">\n",
              "  <thead>\n",
              "    <tr style=\"text-align: right;\">\n",
              "      <th></th>\n",
              "      <th>Accuracy</th>\n",
              "      <th>Balanced Accuracy</th>\n",
              "      <th>ROC AUC</th>\n",
              "      <th>F1 Score</th>\n",
              "      <th>Time Taken</th>\n",
              "    </tr>\n",
              "    <tr>\n",
              "      <th>Model</th>\n",
              "      <th></th>\n",
              "      <th></th>\n",
              "      <th></th>\n",
              "      <th></th>\n",
              "      <th></th>\n",
              "    </tr>\n",
              "  </thead>\n",
              "  <tbody>\n",
              "    <tr>\n",
              "      <th>LGBMClassifier</th>\n",
              "      <td>0.98</td>\n",
              "      <td>0.97</td>\n",
              "      <td>0.97</td>\n",
              "      <td>0.98</td>\n",
              "      <td>0.24</td>\n",
              "    </tr>\n",
              "    <tr>\n",
              "      <th>CalibratedClassifierCV</th>\n",
              "      <td>0.98</td>\n",
              "      <td>0.97</td>\n",
              "      <td>0.97</td>\n",
              "      <td>0.98</td>\n",
              "      <td>1.47</td>\n",
              "    </tr>\n",
              "    <tr>\n",
              "      <th>LinearSVC</th>\n",
              "      <td>0.98</td>\n",
              "      <td>0.97</td>\n",
              "      <td>0.97</td>\n",
              "      <td>0.98</td>\n",
              "      <td>0.54</td>\n",
              "    </tr>\n",
              "    <tr>\n",
              "      <th>LogisticRegression</th>\n",
              "      <td>0.98</td>\n",
              "      <td>0.97</td>\n",
              "      <td>0.97</td>\n",
              "      <td>0.98</td>\n",
              "      <td>0.21</td>\n",
              "    </tr>\n",
              "    <tr>\n",
              "      <th>BernoulliNB</th>\n",
              "      <td>0.97</td>\n",
              "      <td>0.97</td>\n",
              "      <td>0.97</td>\n",
              "      <td>0.97</td>\n",
              "      <td>0.07</td>\n",
              "    </tr>\n",
              "    <tr>\n",
              "      <th>SVC</th>\n",
              "      <td>0.98</td>\n",
              "      <td>0.97</td>\n",
              "      <td>0.97</td>\n",
              "      <td>0.98</td>\n",
              "      <td>4.36</td>\n",
              "    </tr>\n",
              "    <tr>\n",
              "      <th>AdaBoostClassifier</th>\n",
              "      <td>0.97</td>\n",
              "      <td>0.97</td>\n",
              "      <td>0.97</td>\n",
              "      <td>0.97</td>\n",
              "      <td>0.85</td>\n",
              "    </tr>\n",
              "    <tr>\n",
              "      <th>SGDClassifier</th>\n",
              "      <td>0.97</td>\n",
              "      <td>0.97</td>\n",
              "      <td>0.97</td>\n",
              "      <td>0.97</td>\n",
              "      <td>0.11</td>\n",
              "    </tr>\n",
              "    <tr>\n",
              "      <th>XGBClassifier</th>\n",
              "      <td>0.97</td>\n",
              "      <td>0.97</td>\n",
              "      <td>0.97</td>\n",
              "      <td>0.97</td>\n",
              "      <td>0.88</td>\n",
              "    </tr>\n",
              "    <tr>\n",
              "      <th>KNeighborsClassifier</th>\n",
              "      <td>0.97</td>\n",
              "      <td>0.97</td>\n",
              "      <td>0.97</td>\n",
              "      <td>0.97</td>\n",
              "      <td>7.60</td>\n",
              "    </tr>\n",
              "    <tr>\n",
              "      <th>RandomForestClassifier</th>\n",
              "      <td>0.97</td>\n",
              "      <td>0.97</td>\n",
              "      <td>0.97</td>\n",
              "      <td>0.97</td>\n",
              "      <td>1.06</td>\n",
              "    </tr>\n",
              "    <tr>\n",
              "      <th>NearestCentroid</th>\n",
              "      <td>0.97</td>\n",
              "      <td>0.97</td>\n",
              "      <td>0.97</td>\n",
              "      <td>0.97</td>\n",
              "      <td>0.08</td>\n",
              "    </tr>\n",
              "    <tr>\n",
              "      <th>BaggingClassifier</th>\n",
              "      <td>0.97</td>\n",
              "      <td>0.97</td>\n",
              "      <td>0.97</td>\n",
              "      <td>0.97</td>\n",
              "      <td>0.41</td>\n",
              "    </tr>\n",
              "    <tr>\n",
              "      <th>ExtraTreesClassifier</th>\n",
              "      <td>0.97</td>\n",
              "      <td>0.96</td>\n",
              "      <td>0.96</td>\n",
              "      <td>0.97</td>\n",
              "      <td>1.23</td>\n",
              "    </tr>\n",
              "    <tr>\n",
              "      <th>DecisionTreeClassifier</th>\n",
              "      <td>0.97</td>\n",
              "      <td>0.96</td>\n",
              "      <td>0.96</td>\n",
              "      <td>0.97</td>\n",
              "      <td>0.09</td>\n",
              "    </tr>\n",
              "    <tr>\n",
              "      <th>ExtraTreeClassifier</th>\n",
              "      <td>0.97</td>\n",
              "      <td>0.96</td>\n",
              "      <td>0.96</td>\n",
              "      <td>0.97</td>\n",
              "      <td>0.05</td>\n",
              "    </tr>\n",
              "    <tr>\n",
              "      <th>GaussianNB</th>\n",
              "      <td>0.95</td>\n",
              "      <td>0.96</td>\n",
              "      <td>0.96</td>\n",
              "      <td>0.95</td>\n",
              "      <td>0.06</td>\n",
              "    </tr>\n",
              "    <tr>\n",
              "      <th>PassiveAggressiveClassifier</th>\n",
              "      <td>0.97</td>\n",
              "      <td>0.96</td>\n",
              "      <td>0.96</td>\n",
              "      <td>0.97</td>\n",
              "      <td>0.08</td>\n",
              "    </tr>\n",
              "    <tr>\n",
              "      <th>Perceptron</th>\n",
              "      <td>0.96</td>\n",
              "      <td>0.95</td>\n",
              "      <td>0.95</td>\n",
              "      <td>0.96</td>\n",
              "      <td>0.06</td>\n",
              "    </tr>\n",
              "    <tr>\n",
              "      <th>NuSVC</th>\n",
              "      <td>0.96</td>\n",
              "      <td>0.95</td>\n",
              "      <td>0.95</td>\n",
              "      <td>0.96</td>\n",
              "      <td>45.98</td>\n",
              "    </tr>\n",
              "    <tr>\n",
              "      <th>QuadraticDiscriminantAnalysis</th>\n",
              "      <td>0.93</td>\n",
              "      <td>0.95</td>\n",
              "      <td>0.95</td>\n",
              "      <td>0.93</td>\n",
              "      <td>0.09</td>\n",
              "    </tr>\n",
              "    <tr>\n",
              "      <th>LinearDiscriminantAnalysis</th>\n",
              "      <td>0.95</td>\n",
              "      <td>0.93</td>\n",
              "      <td>0.93</td>\n",
              "      <td>0.95</td>\n",
              "      <td>0.34</td>\n",
              "    </tr>\n",
              "    <tr>\n",
              "      <th>RidgeClassifier</th>\n",
              "      <td>0.95</td>\n",
              "      <td>0.93</td>\n",
              "      <td>0.93</td>\n",
              "      <td>0.95</td>\n",
              "      <td>0.08</td>\n",
              "    </tr>\n",
              "    <tr>\n",
              "      <th>RidgeClassifierCV</th>\n",
              "      <td>0.95</td>\n",
              "      <td>0.93</td>\n",
              "      <td>0.93</td>\n",
              "      <td>0.95</td>\n",
              "      <td>0.11</td>\n",
              "    </tr>\n",
              "    <tr>\n",
              "      <th>DummyClassifier</th>\n",
              "      <td>0.59</td>\n",
              "      <td>0.50</td>\n",
              "      <td>0.50</td>\n",
              "      <td>0.59</td>\n",
              "      <td>0.06</td>\n",
              "    </tr>\n",
              "  </tbody>\n",
              "</table>\n",
              "</div>"
            ],
            "text/plain": [
              "                               Accuracy  Balanced Accuracy  ROC AUC  F1 Score  \\\n",
              "Model                                                                           \n",
              "LGBMClassifier                     0.98               0.97     0.97      0.98   \n",
              "CalibratedClassifierCV             0.98               0.97     0.97      0.98   \n",
              "LinearSVC                          0.98               0.97     0.97      0.98   \n",
              "LogisticRegression                 0.98               0.97     0.97      0.98   \n",
              "BernoulliNB                        0.97               0.97     0.97      0.97   \n",
              "SVC                                0.98               0.97     0.97      0.98   \n",
              "AdaBoostClassifier                 0.97               0.97     0.97      0.97   \n",
              "SGDClassifier                      0.97               0.97     0.97      0.97   \n",
              "XGBClassifier                      0.97               0.97     0.97      0.97   \n",
              "KNeighborsClassifier               0.97               0.97     0.97      0.97   \n",
              "RandomForestClassifier             0.97               0.97     0.97      0.97   \n",
              "NearestCentroid                    0.97               0.97     0.97      0.97   \n",
              "BaggingClassifier                  0.97               0.97     0.97      0.97   \n",
              "ExtraTreesClassifier               0.97               0.96     0.96      0.97   \n",
              "DecisionTreeClassifier             0.97               0.96     0.96      0.97   \n",
              "ExtraTreeClassifier                0.97               0.96     0.96      0.97   \n",
              "GaussianNB                         0.95               0.96     0.96      0.95   \n",
              "PassiveAggressiveClassifier        0.97               0.96     0.96      0.97   \n",
              "Perceptron                         0.96               0.95     0.95      0.96   \n",
              "NuSVC                              0.96               0.95     0.95      0.96   \n",
              "QuadraticDiscriminantAnalysis      0.93               0.95     0.95      0.93   \n",
              "LinearDiscriminantAnalysis         0.95               0.93     0.93      0.95   \n",
              "RidgeClassifier                    0.95               0.93     0.93      0.95   \n",
              "RidgeClassifierCV                  0.95               0.93     0.93      0.95   \n",
              "DummyClassifier                    0.59               0.50     0.50      0.59   \n",
              "\n",
              "                               Time Taken  \n",
              "Model                                      \n",
              "LGBMClassifier                       0.24  \n",
              "CalibratedClassifierCV               1.47  \n",
              "LinearSVC                            0.54  \n",
              "LogisticRegression                   0.21  \n",
              "BernoulliNB                          0.07  \n",
              "SVC                                  4.36  \n",
              "AdaBoostClassifier                   0.85  \n",
              "SGDClassifier                        0.11  \n",
              "XGBClassifier                        0.88  \n",
              "KNeighborsClassifier                 7.60  \n",
              "RandomForestClassifier               1.06  \n",
              "NearestCentroid                      0.08  \n",
              "BaggingClassifier                    0.41  \n",
              "ExtraTreesClassifier                 1.23  \n",
              "DecisionTreeClassifier               0.09  \n",
              "ExtraTreeClassifier                  0.05  \n",
              "GaussianNB                           0.06  \n",
              "PassiveAggressiveClassifier          0.08  \n",
              "Perceptron                           0.06  \n",
              "NuSVC                               45.98  \n",
              "QuadraticDiscriminantAnalysis        0.09  \n",
              "LinearDiscriminantAnalysis           0.34  \n",
              "RidgeClassifier                      0.08  \n",
              "RidgeClassifierCV                    0.11  \n",
              "DummyClassifier                      0.06  "
            ]
          },
          "execution_count": 88,
          "metadata": {},
          "output_type": "execute_result"
        }
      ]
    },
    {
      "cell_type": "markdown",
      "metadata": {
        "id": "54Sj8BHA5glN"
      },
      "source": [
        "![alt text](https://drive.google.com/uc?id=1Y5ol1uvi1nymyEGqMmn3yXxqkiuVo8zS)"
      ],
      "id": "54Sj8BHA5glN"
    },
    {
      "cell_type": "markdown",
      "metadata": {
        "id": "c111989f"
      },
      "source": [
        "# 15) LGBM com Boruta"
      ],
      "id": "c111989f"
    },
    {
      "cell_type": "code",
      "metadata": {
        "id": "91c34e8d",
        "colab": {
          "base_uri": "https://localhost:8080/"
        },
        "outputId": "95d03a6f-62c0-4dd5-9e0d-35a54719f6f4"
      },
      "source": [
        "import lightgbm as lgb\n",
        "model_lgbm_boruta = lgb.LGBMClassifier(learning_rate=0.09,max_depth=-5,random_state=42)\n",
        "model_lgbm_boruta.fit(X_train_boruta,y_train,eval_set=[(X_test_boruta,y_test),(X_train_boruta,y_train)],\n",
        "          verbose=0,eval_metric='logloss')\n"
      ],
      "id": "91c34e8d",
      "execution_count": null,
      "outputs": [
        {
          "output_type": "execute_result",
          "data": {
            "text/plain": [
              "LGBMClassifier(learning_rate=0.09, max_depth=-5, random_state=42)"
            ]
          },
          "metadata": {},
          "execution_count": 45
        }
      ]
    },
    {
      "cell_type": "code",
      "metadata": {
        "id": "981fd7af"
      },
      "source": [
        "y_pred_lgbm_boruta = pd.Series(model_lgbm_boruta.predict(X_test_boruta))"
      ],
      "id": "981fd7af",
      "execution_count": null,
      "outputs": []
    },
    {
      "cell_type": "code",
      "metadata": {
        "id": "5120a6c4",
        "colab": {
          "base_uri": "https://localhost:8080/"
        },
        "outputId": "c16c67a6-f5c2-4258-9aa8-878a3d36052b"
      },
      "source": [
        "print(\"Accuracy: {:.4f}\".format(metrics.accuracy_score(y_test, y_pred_lgbm_boruta)))\n",
        "print(\"Precision: {:.4f}\".format(metrics.precision_score(y_test, y_pred_lgbm_boruta)))\n",
        "print(\"Recall: {:.4f}\".format(metrics.recall_score(y_test, y_pred_lgbm_boruta)))\n",
        "print(\"AUC: {:.4f}\".format(metrics.roc_auc_score(y_test, y_pred_lgbm_boruta)))"
      ],
      "id": "5120a6c4",
      "execution_count": null,
      "outputs": [
        {
          "output_type": "stream",
          "name": "stdout",
          "text": [
            "Accuracy: 0.9758\n",
            "Precision: 0.9596\n",
            "Recall: 0.9567\n",
            "AUC: 0.9701\n"
          ]
        }
      ]
    },
    {
      "cell_type": "code",
      "metadata": {
        "id": "b3311ae9",
        "colab": {
          "base_uri": "https://localhost:8080/",
          "height": 627
        },
        "outputId": "2761f219-cd5a-4834-c9dc-20fbf1e5fc9e"
      },
      "source": [
        "# Feature Importance\n",
        "lgb.plot_importance(model_lgbm_boruta)\n",
        "plt.rcParams['figure.figsize'] = [20, 10]\n",
        "plt.show()"
      ],
      "id": "b3311ae9",
      "execution_count": null,
      "outputs": [
        {
          "output_type": "display_data",
          "data": {
            "image/png": "[encoded data removed]",
            "text/plain": [
              "<Figure size 1440x720 with 1 Axes>"
            ]
          },
          "metadata": {}
        }
      ]
    },
    {
      "cell_type": "code",
      "metadata": {
        "colab": {
          "base_uri": "https://localhost:8080/"
        },
        "id": "ViEe26-EHae3",
        "outputId": "6f03cd51-5e15-4024-82ce-06bc0bd332d1"
      },
      "source": [
        "!pip install shap\n",
        "import shap"
      ],
      "id": "ViEe26-EHae3",
      "execution_count": null,
      "outputs": [
        {
          "output_type": "stream",
          "name": "stdout",
          "text": [
            "Collecting shap\n",
            "  Downloading shap-0.40.0-cp37-cp37m-manylinux2010_x86_64.whl (564 kB)\n",
            "\u001b[?25l\r\u001b[K     |▋                               | 10 kB 24.3 MB/s eta 0:00:01\r\u001b[K     |█▏                              | 20 kB 32.7 MB/s eta 0:00:01\r\u001b[K     |█▊                              | 30 kB 38.7 MB/s eta 0:00:01\r\u001b[K     |██▎                             | 40 kB 32.9 MB/s eta 0:00:01\r\u001b[K     |███                             | 51 kB 15.2 MB/s eta 0:00:01\r\u001b[K     |███▌                            | 61 kB 11.3 MB/s eta 0:00:01\r\u001b[K     |████                            | 71 kB 11.2 MB/s eta 0:00:01\r\u001b[K     |████▋                           | 81 kB 12.3 MB/s eta 0:00:01\r\u001b[K     |█████▏                          | 92 kB 13.2 MB/s eta 0:00:01\r\u001b[K     |█████▉                          | 102 kB 13.6 MB/s eta 0:00:01\r\u001b[K     |██████▍                         | 112 kB 13.6 MB/s eta 0:00:01\r\u001b[K     |███████                         | 122 kB 13.6 MB/s eta 0:00:01\r\u001b[K     |███████▌                        | 133 kB 13.6 MB/s eta 0:00:01\r\u001b[K     |████████▏                       | 143 kB 13.6 MB/s eta 0:00:01\r\u001b[K     |████████▊                       | 153 kB 13.6 MB/s eta 0:00:01\r\u001b[K     |█████████▎                      | 163 kB 13.6 MB/s eta 0:00:01\r\u001b[K     |█████████▉                      | 174 kB 13.6 MB/s eta 0:00:01\r\u001b[K     |██████████▍                     | 184 kB 13.6 MB/s eta 0:00:01\r\u001b[K     |███████████                     | 194 kB 13.6 MB/s eta 0:00:01\r\u001b[K     |███████████▋                    | 204 kB 13.6 MB/s eta 0:00:01\r\u001b[K     |████████████▏                   | 215 kB 13.6 MB/s eta 0:00:01\r\u001b[K     |████████████▊                   | 225 kB 13.6 MB/s eta 0:00:01\r\u001b[K     |█████████████▍                  | 235 kB 13.6 MB/s eta 0:00:01\r\u001b[K     |██████████████                  | 245 kB 13.6 MB/s eta 0:00:01\r\u001b[K     |██████████████▌                 | 256 kB 13.6 MB/s eta 0:00:01\r\u001b[K     |███████████████                 | 266 kB 13.6 MB/s eta 0:00:01\r\u001b[K     |███████████████▋                | 276 kB 13.6 MB/s eta 0:00:01\r\u001b[K     |████████████████▎               | 286 kB 13.6 MB/s eta 0:00:01\r\u001b[K     |████████████████▉               | 296 kB 13.6 MB/s eta 0:00:01\r\u001b[K     |█████████████████▍              | 307 kB 13.6 MB/s eta 0:00:01\r\u001b[K     |██████████████████              | 317 kB 13.6 MB/s eta 0:00:01\r\u001b[K     |██████████████████▋             | 327 kB 13.6 MB/s eta 0:00:01\r\u001b[K     |███████████████████▏            | 337 kB 13.6 MB/s eta 0:00:01\r\u001b[K     |███████████████████▊            | 348 kB 13.6 MB/s eta 0:00:01\r\u001b[K     |████████████████████▎           | 358 kB 13.6 MB/s eta 0:00:01\r\u001b[K     |████████████████████▉           | 368 kB 13.6 MB/s eta 0:00:01\r\u001b[K     |█████████████████████▌          | 378 kB 13.6 MB/s eta 0:00:01\r\u001b[K     |██████████████████████          | 389 kB 13.6 MB/s eta 0:00:01\r\u001b[K     |██████████████████████▋         | 399 kB 13.6 MB/s eta 0:00:01\r\u001b[K     |███████████████████████▏        | 409 kB 13.6 MB/s eta 0:00:01\r\u001b[K     |███████████████████████▉        | 419 kB 13.6 MB/s eta 0:00:01\r\u001b[K     |████████████████████████▍       | 430 kB 13.6 MB/s eta 0:00:01\r\u001b[K     |█████████████████████████       | 440 kB 13.6 MB/s eta 0:00:01\r\u001b[K     |█████████████████████████▌      | 450 kB 13.6 MB/s eta 0:00:01\r\u001b[K     |██████████████████████████      | 460 kB 13.6 MB/s eta 0:00:01\r\u001b[K     |██████████████████████████▊     | 471 kB 13.6 MB/s eta 0:00:01\r\u001b[K     |███████████████████████████▎    | 481 kB 13.6 MB/s eta 0:00:01\r\u001b[K     |███████████████████████████▉    | 491 kB 13.6 MB/s eta 0:00:01\r\u001b[K     |████████████████████████████▍   | 501 kB 13.6 MB/s eta 0:00:01\r\u001b[K     |█████████████████████████████   | 512 kB 13.6 MB/s eta 0:00:01\r\u001b[K     |█████████████████████████████▋  | 522 kB 13.6 MB/s eta 0:00:01\r\u001b[K     |██████████████████████████████▏ | 532 kB 13.6 MB/s eta 0:00:01\r\u001b[K     |██████████████████████████████▊ | 542 kB 13.6 MB/s eta 0:00:01\r\u001b[K     |███████████████████████████████▎| 552 kB 13.6 MB/s eta 0:00:01\r\u001b[K     |████████████████████████████████| 563 kB 13.6 MB/s eta 0:00:01\r\u001b[K     |████████████████████████████████| 564 kB 13.6 MB/s \n",
            "\u001b[?25hCollecting slicer==0.0.7\n",
            "  Downloading slicer-0.0.7-py3-none-any.whl (14 kB)\n",
            "Requirement already satisfied: packaging>20.9 in /usr/local/lib/python3.7/dist-packages (from shap) (21.3)\n",
            "Requirement already satisfied: scikit-learn in /usr/local/lib/python3.7/dist-packages (from shap) (0.23.1)\n",
            "Requirement already satisfied: numba in /usr/local/lib/python3.7/dist-packages (from shap) (0.51.2)\n",
            "Requirement already satisfied: pandas in /usr/local/lib/python3.7/dist-packages (from shap) (1.0.5)\n",
            "Requirement already satisfied: scipy in /usr/local/lib/python3.7/dist-packages (from shap) (1.5.4)\n",
            "Requirement already satisfied: tqdm>4.25.0 in /usr/local/lib/python3.7/dist-packages (from shap) (4.56.0)\n",
            "Requirement already satisfied: numpy in /usr/local/lib/python3.7/dist-packages (from shap) (1.19.1)\n",
            "Requirement already satisfied: cloudpickle in /usr/local/lib/python3.7/dist-packages (from shap) (1.3.0)\n",
            "Requirement already satisfied: pyparsing!=3.0.5,>=2.0.2 in /usr/local/lib/python3.7/dist-packages (from packaging>20.9->shap) (3.0.6)\n",
            "Requirement already satisfied: setuptools in /usr/local/lib/python3.7/dist-packages (from numba->shap) (57.4.0)\n",
            "Requirement already satisfied: llvmlite<0.35,>=0.34.0.dev0 in /usr/local/lib/python3.7/dist-packages (from numba->shap) (0.34.0)\n",
            "Requirement already satisfied: pytz>=2017.2 in /usr/local/lib/python3.7/dist-packages (from pandas->shap) (2018.9)\n",
            "Requirement already satisfied: python-dateutil>=2.6.1 in /usr/local/lib/python3.7/dist-packages (from pandas->shap) (2.8.2)\n",
            "Requirement already satisfied: six>=1.5 in /usr/local/lib/python3.7/dist-packages (from python-dateutil>=2.6.1->pandas->shap) (1.15.0)\n",
            "Requirement already satisfied: threadpoolctl>=2.0.0 in /usr/local/lib/python3.7/dist-packages (from scikit-learn->shap) (3.0.0)\n",
            "Requirement already satisfied: joblib>=0.11 in /usr/local/lib/python3.7/dist-packages (from scikit-learn->shap) (1.0.0)\n",
            "Installing collected packages: slicer, shap\n",
            "Successfully installed shap-0.40.0 slicer-0.0.7\n"
          ]
        }
      ]
    },
    {
      "cell_type": "code",
      "metadata": {
        "id": "0VWUucQhH5LN"
      },
      "source": [
        "explainer = shap.TreeExplainer(model=model_lgbm_boruta)\n",
        "shap_values_train = explainer.shap_values(X_train_boruta, y_train)"
      ],
      "id": "0VWUucQhH5LN",
      "execution_count": null,
      "outputs": []
    },
    {
      "cell_type": "code",
      "metadata": {
        "colab": {
          "base_uri": "https://localhost:8080/"
        },
        "id": "uOZYbLMXIUvY",
        "outputId": "af04af91-2fca-415a-9305-b05960d349a3"
      },
      "source": [
        "y_pred_train_proba = model_lgbm_boruta.predict_proba(X_train_boruta)\n",
        "shap_values_train[1][3]"
      ],
      "id": "uOZYbLMXIUvY",
      "execution_count": null,
      "outputs": [
        {
          "output_type": "execute_result",
          "data": {
            "text/plain": [
              "array([ 1.03234581, -1.03236768, -0.08711347, -0.18870642,  0.35604576,\n",
              "       -0.73046977, -0.13597972, -0.28335777,  0.42420412, -0.66769682,\n",
              "       -0.24957428, -0.36922393,  0.71220993, -0.35630207, -0.03845209,\n",
              "       -0.11119177,  0.17503707, -0.41451369, -0.24223574, -0.38292673,\n",
              "        0.71726638, -0.4558176 , -0.07909924, -0.10324568])"
            ]
          },
          "metadata": {},
          "execution_count": 60
        }
      ]
    },
    {
      "cell_type": "code",
      "metadata": {
        "colab": {
          "base_uri": "https://localhost:8080/"
        },
        "id": "7z5f05heIzlf",
        "outputId": "dd2e8248-f9e9-4e55-b667-8dffea8b73ce"
      },
      "source": [
        "shap_values_train[0][3]"
      ],
      "id": "7z5f05heIzlf",
      "execution_count": null,
      "outputs": [
        {
          "output_type": "execute_result",
          "data": {
            "text/plain": [
              "array([-1.03234581,  1.03236768,  0.08711347,  0.18870642, -0.35604576,\n",
              "        0.73046977,  0.13597972,  0.28335777, -0.42420412,  0.66769682,\n",
              "        0.24957428,  0.36922393, -0.71220993,  0.35630207,  0.03845209,\n",
              "        0.11119177, -0.17503707,  0.41451369,  0.24223574,  0.38292673,\n",
              "       -0.71726638,  0.4558176 ,  0.07909924,  0.10324568])"
            ]
          },
          "metadata": {},
          "execution_count": 59
        }
      ]
    },
    {
      "cell_type": "code",
      "metadata": {
        "colab": {
          "base_uri": "https://localhost:8080/"
        },
        "id": "SCVzQ_lmI5-2",
        "outputId": "78e1b914-e4aa-4012-fa30-a228104ca4eb"
      },
      "source": [
        "shap_values_train[1][3].sum().round(2)\n",
        "shap_values_train[0][3].sum().round(2)"
      ],
      "id": "SCVzQ_lmI5-2",
      "execution_count": null,
      "outputs": [
        {
          "output_type": "execute_result",
          "data": {
            "text/plain": [
              "2.51"
            ]
          },
          "metadata": {},
          "execution_count": 61
        }
      ]
    },
    {
      "cell_type": "code",
      "metadata": {
        "id": "UDCSt0vwI_c6"
      },
      "source": [
        "expected_value = explainer.expected_value"
      ],
      "id": "UDCSt0vwI_c6",
      "execution_count": null,
      "outputs": []
    },
    {
      "cell_type": "code",
      "metadata": {
        "colab": {
          "base_uri": "https://localhost:8080/"
        },
        "id": "MNlnhBmhJAT9",
        "outputId": "e1928c8e-b2ea-4d2b-979a-d5097720c1a6"
      },
      "source": [
        "for col, vShap in zip(X_train_boruta.columns, shap_values_train[1][3]):\n",
        "  print(col, \"-\", 'Valor SHAP associado:',100*vShap.round(2))"
      ],
      "id": "MNlnhBmhJAT9",
      "execution_count": null,
      "outputs": [
        {
          "output_type": "stream",
          "name": "stdout",
          "text": [
            "MH_15B_1 - Valor SHAP associado: 103.0\n",
            "MH_15B_2 - Valor SHAP associado: -103.0\n",
            "MH_15B_3 - Valor SHAP associado: -9.0\n",
            "MH_15B_4 - Valor SHAP associado: -19.0\n",
            "MH_15C_1 - Valor SHAP associado: 36.0\n",
            "MH_15C_2 - Valor SHAP associado: -73.0\n",
            "MH_15C_3 - Valor SHAP associado: -14.000000000000002\n",
            "MH_15C_4 - Valor SHAP associado: -28.000000000000004\n",
            "MH_15D_1 - Valor SHAP associado: 42.0\n",
            "MH_15D_2 - Valor SHAP associado: -67.0\n",
            "MH_15D_3 - Valor SHAP associado: -25.0\n",
            "MH_15D_4 - Valor SHAP associado: -37.0\n",
            "MH_15E_1 - Valor SHAP associado: 71.0\n",
            "MH_15E_2 - Valor SHAP associado: -36.0\n",
            "MH_15E_3 - Valor SHAP associado: -4.0\n",
            "MH_15E_4 - Valor SHAP associado: -11.0\n",
            "MH_15F_1 - Valor SHAP associado: 18.0\n",
            "MH_15F_2 - Valor SHAP associado: -41.0\n",
            "MH_15F_3 - Valor SHAP associado: -24.0\n",
            "MH_15F_4 - Valor SHAP associado: -38.0\n",
            "MH_15G_1 - Valor SHAP associado: 72.0\n",
            "MH_15G_2 - Valor SHAP associado: -46.0\n",
            "MH_15G_3 - Valor SHAP associado: -8.0\n",
            "MH_15G_4 - Valor SHAP associado: -10.0\n"
          ]
        }
      ]
    },
    {
      "cell_type": "code",
      "metadata": {
        "colab": {
          "base_uri": "https://localhost:8080/",
          "height": 887
        },
        "id": "I_L2vLWIJctY",
        "outputId": "6fd7d612-8412-4358-86fe-317f1094e978"
      },
      "source": [
        "shap.summary_plot(shap_values_train[1], X_train_boruta, plot_type=\"dot\", plot_size=(20,15));"
      ],
      "id": "I_L2vLWIJctY",
      "execution_count": null,
      "outputs": [
        {
          "output_type": "display_data",
          "data": {
            "image/png": "[encoded data removed]",
            "text/plain": [
              "<Figure size 1440x1080 with 2 Axes>"
            ]
          },
          "metadata": {}
        }
      ]
    },
    {
      "cell_type": "markdown",
      "metadata": {
        "id": "7a948199"
      },
      "source": [
        "# 16) Próximos passos\n",
        "* Avaliar a retirada de variáveis com base na dependência (Qui-quadrado)\n",
        "* Avaliar a retirada de variáveis com base em possível data leakage\n",
        "* Reconstruir o modelo com o novo conjunto de variáveis\n",
        "* Tunar hiperparâmetros\n",
        "* Shap Values"
      ],
      "id": "7a948199"
    },
    {
      "cell_type": "code",
      "metadata": {
        "colab": {
          "base_uri": "https://localhost:8080/",
          "height": 611
        },
        "id": "uFoFlPvqJcCm",
        "outputId": "6f2719ff-c530-4c88-fad1-49bab5f57538"
      },
      "source": [
        "import matplotlib.pyplot as plt\n",
        "from sklearn import datasets, metrics, model_selection, svm\n",
        "metrics.plot_roc_curve(model_lgbm_boruta, X_test_boruta, y_test) \n",
        "plt.show()"
      ],
      "id": "uFoFlPvqJcCm",
      "execution_count": null,
      "outputs": [
        {
          "output_type": "display_data",
          "data": {
            "image/png": "[encoded data removed]",
            "text/plain": [
              "<Figure size 1440x720 with 1 Axes>"
            ]
          },
          "metadata": {}
        }
      ]
    },
    {
      "cell_type": "code",
      "metadata": {
        "colab": {
          "base_uri": "https://localhost:8080/"
        },
        "id": "bNznrJgaPLZM",
        "outputId": "51de1122-a00c-45a0-845d-3b642adca385"
      },
      "source": [
        "# Hiperparâmetros\n",
        "\n",
        "!pip install --quiet optuna"
      ],
      "id": "bNznrJgaPLZM",
      "execution_count": null,
      "outputs": [
        {
          "output_type": "stream",
          "name": "stdout",
          "text": [
            "\u001b[K     |████████████████████████████████| 308 kB 14.0 MB/s \n",
            "\u001b[K     |████████████████████████████████| 209 kB 75.2 MB/s \n",
            "\u001b[K     |████████████████████████████████| 80 kB 9.3 MB/s \n",
            "\u001b[K     |████████████████████████████████| 75 kB 4.5 MB/s \n",
            "\u001b[K     |████████████████████████████████| 149 kB 33.6 MB/s \n",
            "\u001b[K     |████████████████████████████████| 112 kB 73.2 MB/s \n",
            "\u001b[K     |████████████████████████████████| 49 kB 4.9 MB/s \n",
            "\u001b[?25h  Building wheel for pyperclip (setup.py) ... \u001b[?25l\u001b[?25hdone\n"
          ]
        }
      ]
    },
    {
      "cell_type": "code",
      "metadata": {
        "colab": {
          "base_uri": "https://localhost:8080/",
          "height": 35
        },
        "id": "T9J9k37_TjP_",
        "outputId": "e54877d0-ed7a-4de2-a8f6-53fedb31941b"
      },
      "source": [
        "import optuna\n",
        "\n",
        "optuna.__version__"
      ],
      "id": "T9J9k37_TjP_",
      "execution_count": null,
      "outputs": [
        {
          "output_type": "execute_result",
          "data": {
            "application/vnd.google.colaboratory.intrinsic+json": {
              "type": "string"
            },
            "text/plain": [
              "'2.10.0'"
            ]
          },
          "metadata": {},
          "execution_count": 75
        }
      ]
    },
    {
      "cell_type": "code",
      "metadata": {
        "id": "-HIE9eC6TqDi"
      },
      "source": [],
      "id": "-HIE9eC6TqDi",
      "execution_count": null,
      "outputs": []
    },
    {
      "cell_type": "code",
      "metadata": {
        "id": "HitPbcQQTwGM"
      },
      "source": [
        "import sklearn.svm\n",
        "\n",
        "def objective(trial):\n",
        "\n",
        "    classifier = trial.suggest_categorical('classifier', ['RandomForest', 'SVC'])\n",
        "    \n",
        "    if classifier == 'RandomForest':\n",
        "        n_estimators = trial.suggest_int('n_estimators', 2, 20)\n",
        "        max_depth = int(trial.suggest_float('max_depth', 1, 32, log=True))\n",
        "\n",
        "        clf = sklearn.ensemble.RandomForestClassifier(\n",
        "            n_estimators=n_estimators, max_depth=max_depth)\n",
        "    else:\n",
        "        c = trial.suggest_float('svc_c', 1e-10, 1e10, log=True)\n",
        "        \n",
        "        clf = sklearn.svm.SVC(C=c, gamma='auto')\n",
        "\n",
        "    return sklearn.model_selection.cross_val_score(\n",
        "        clf, iris.data, iris.target, n_jobs=-1, cv=3).mean()\n",
        "\n",
        "study = optuna.create_study(direction='maximize')\n",
        "study.optimize(objective, n_trials=100)\n",
        "\n",
        "trial = study.best_trial\n",
        "\n",
        "print('Accuracy: {}'.format(trial.value))\n",
        "print(\"Best hyperparameters: {}\".format(trial.params))"
      ],
      "id": "HitPbcQQTwGM",
      "execution_count": null,
      "outputs": []
    }
  ]
}